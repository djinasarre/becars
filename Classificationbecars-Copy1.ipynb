{
 "cells": [
  {
   "cell_type": "code",
   "execution_count": 1,
   "metadata": {},
   "outputs": [],
   "source": [
    "#In this notebook we try to practice all the classification algorithms that we learned in this course.\n",
    "\n",
    "#We load a dataset using Pandas library, and apply the following algorithms, and find the best one for this specific dataset by accuracy evaluation methods.\n",
    "\n",
    "#Lets first load required libraries:\n",
    "\n",
    "\n",
    "import itertools\n",
    "import numpy as np\n",
    "import matplotlib.pyplot as plt\n",
    "from matplotlib.ticker import NullFormatter\n",
    "import pandas as pd\n",
    "import numpy as np\n",
    "import matplotlib.ticker as ticker\n",
    "\n",
    "from pathlib import Path\n",
    "data_path = Path('../data')\n",
    "\n",
    "from sklearn import preprocessing\n",
    "%matplotlib inline"
   ]
  },
  {
   "cell_type": "markdown",
   "metadata": {},
   "source": [
    "Understanding the Data\n",
    "\n",
    "MARCA MODELO==\tMAKE MODEL;\n",
    "        MOTOR==\tcubic capacity;\n",
    "        CAMBIO==\ttype of vehicle speed change;\n",
    "            CV==\thorsepower vehicle;\n",
    "  COMBUSTIBLE==   FUEL;\n",
    "        COLOR==\tCOLOUR;\n",
    "    PROVEEDOR==\tSUPPLIER;\n",
    "        YEARS==\tcar age;\n",
    "        PLAZAS==\tcar seats;\n",
    "            PCC==\tpurchase price with commissions;\n",
    "        PCOMPRA==\tpurchase price without commissions;\n",
    "        PVENTA==\tsale price;\n",
    "        BRUTO==\tgross margin;\n",
    "        NETO==\tnet margin;\n",
    "            KM==\tKM;\n",
    "        C AUTO1==\tprice commission;\n",
    "        tipo==\tvehicle type;\n",
    "        llantas==\tTires;\n",
    "     C.P Zip==    code;\n",
    "    localidad==\tlocality;\n",
    "    provincia==\tprovince;\n",
    "        pais==\tcountry;\n",
    "nacionalidad==\tnationality;\n",
    "        sexo==\tsex;\n",
    "        edad==\tage;\n",
    "         mes==\tsale month;\n",
    "        year==\tsale year;\n",
    "CTE.GARANTÍA==\tcost in guarantee;\n",
    "CTE..PREPARACIÓN==\tpreparation cost;\n",
    "    CTE.TOTAL==\ttotal cost;\n",
    "        BF.NETO==\tnet profit;\n",
    "    GARANTIA==\tGarantia=1 guaranteed car  , Grantía=2 without guarantee;\n",
    "        MESES==\tMESES=1 sold in 2 or less months, MESES=2 sold in more than 2 months;\n",
    "    GARANTIA2==\tGarantia=si guaranteed car  , Grantía=no without guarantee\n",
    "    \n"
   ]
  },
  {
   "cell_type": "code",
   "execution_count": 2,
   "metadata": {},
   "outputs": [
    {
     "data": {
      "text/html": [
       "<div>\n",
       "<style scoped>\n",
       "    .dataframe tbody tr th:only-of-type {\n",
       "        vertical-align: middle;\n",
       "    }\n",
       "\n",
       "    .dataframe tbody tr th {\n",
       "        vertical-align: top;\n",
       "    }\n",
       "\n",
       "    .dataframe thead th {\n",
       "        text-align: right;\n",
       "    }\n",
       "</style>\n",
       "<table border=\"1\" class=\"dataframe\">\n",
       "  <thead>\n",
       "    <tr style=\"text-align: right;\">\n",
       "      <th></th>\n",
       "      <th>MARCA MODELO</th>\n",
       "      <th>MOTOR</th>\n",
       "      <th>CAMBIO</th>\n",
       "      <th>CV</th>\n",
       "      <th>COMBUSTIBLE</th>\n",
       "      <th>COLOR</th>\n",
       "      <th>PROVEEDOR</th>\n",
       "      <th>YEARS</th>\n",
       "      <th>PLAZAS</th>\n",
       "      <th>PCC</th>\n",
       "      <th>...</th>\n",
       "      <th>edad</th>\n",
       "      <th>mes</th>\n",
       "      <th>year</th>\n",
       "      <th>CTE.GARANTÍA</th>\n",
       "      <th>CTE..PREPARACIÓN</th>\n",
       "      <th>CTE.TOTAL</th>\n",
       "      <th>BF.NETO</th>\n",
       "      <th>GARANTIA</th>\n",
       "      <th>MESES</th>\n",
       "      <th>GARANTIA2</th>\n",
       "    </tr>\n",
       "  </thead>\n",
       "  <tbody>\n",
       "    <tr>\n",
       "      <th>0</th>\n",
       "      <td>RENAULT MEGANE</td>\n",
       "      <td>1.6</td>\n",
       "      <td>MANUAL</td>\n",
       "      <td>75</td>\n",
       "      <td>GASOLINA</td>\n",
       "      <td>NaN</td>\n",
       "      <td>G.COSTA</td>\n",
       "      <td>10</td>\n",
       "      <td>NaN</td>\n",
       "      <td>956.6</td>\n",
       "      <td>...</td>\n",
       "      <td>NaN</td>\n",
       "      <td>1</td>\n",
       "      <td>2008</td>\n",
       "      <td>NaN</td>\n",
       "      <td>NaN</td>\n",
       "      <td>NaN</td>\n",
       "      <td>NaN</td>\n",
       "      <td>NaN</td>\n",
       "      <td>NaN</td>\n",
       "      <td>NaN</td>\n",
       "    </tr>\n",
       "    <tr>\n",
       "      <th>1</th>\n",
       "      <td>VOLVO S60</td>\n",
       "      <td>2.5</td>\n",
       "      <td>MANUAL</td>\n",
       "      <td>145</td>\n",
       "      <td>GASOLINA</td>\n",
       "      <td>NaN</td>\n",
       "      <td>PARTICULAR</td>\n",
       "      <td>7</td>\n",
       "      <td>NaN</td>\n",
       "      <td>7900.0</td>\n",
       "      <td>...</td>\n",
       "      <td>NaN</td>\n",
       "      <td>2</td>\n",
       "      <td>2008</td>\n",
       "      <td>NaN</td>\n",
       "      <td>NaN</td>\n",
       "      <td>NaN</td>\n",
       "      <td>NaN</td>\n",
       "      <td>NaN</td>\n",
       "      <td>NaN</td>\n",
       "      <td>NaN</td>\n",
       "    </tr>\n",
       "    <tr>\n",
       "      <th>2</th>\n",
       "      <td>VOLKSWAGEN PASSAT</td>\n",
       "      <td>1.9</td>\n",
       "      <td>MANUAL</td>\n",
       "      <td>130</td>\n",
       "      <td>DIESEL</td>\n",
       "      <td>NaN</td>\n",
       "      <td>LEASEPLAN</td>\n",
       "      <td>5</td>\n",
       "      <td>NaN</td>\n",
       "      <td>11200.0</td>\n",
       "      <td>...</td>\n",
       "      <td>NaN</td>\n",
       "      <td>2</td>\n",
       "      <td>2008</td>\n",
       "      <td>NaN</td>\n",
       "      <td>NaN</td>\n",
       "      <td>NaN</td>\n",
       "      <td>NaN</td>\n",
       "      <td>NaN</td>\n",
       "      <td>NaN</td>\n",
       "      <td>NaN</td>\n",
       "    </tr>\n",
       "    <tr>\n",
       "      <th>3</th>\n",
       "      <td>SEAT TOLEDO</td>\n",
       "      <td>1.9</td>\n",
       "      <td>MANUAL</td>\n",
       "      <td>110</td>\n",
       "      <td>DIESEL</td>\n",
       "      <td>NaN</td>\n",
       "      <td>LEASEPLAN</td>\n",
       "      <td>5</td>\n",
       "      <td>NaN</td>\n",
       "      <td>7300.0</td>\n",
       "      <td>...</td>\n",
       "      <td>NaN</td>\n",
       "      <td>3</td>\n",
       "      <td>2008</td>\n",
       "      <td>NaN</td>\n",
       "      <td>NaN</td>\n",
       "      <td>NaN</td>\n",
       "      <td>NaN</td>\n",
       "      <td>NaN</td>\n",
       "      <td>NaN</td>\n",
       "      <td>NaN</td>\n",
       "    </tr>\n",
       "    <tr>\n",
       "      <th>4</th>\n",
       "      <td>SKODA OCTAVIA</td>\n",
       "      <td>1.9</td>\n",
       "      <td>MANUAL</td>\n",
       "      <td>105</td>\n",
       "      <td>DIESEL</td>\n",
       "      <td>NaN</td>\n",
       "      <td>LEASEPLAN</td>\n",
       "      <td>3</td>\n",
       "      <td>NaN</td>\n",
       "      <td>10000.0</td>\n",
       "      <td>...</td>\n",
       "      <td>NaN</td>\n",
       "      <td>3</td>\n",
       "      <td>2008</td>\n",
       "      <td>NaN</td>\n",
       "      <td>NaN</td>\n",
       "      <td>NaN</td>\n",
       "      <td>NaN</td>\n",
       "      <td>NaN</td>\n",
       "      <td>NaN</td>\n",
       "      <td>NaN</td>\n",
       "    </tr>\n",
       "  </tbody>\n",
       "</table>\n",
       "<p>5 rows × 34 columns</p>\n",
       "</div>"
      ],
      "text/plain": [
       "        MARCA MODELO  MOTOR  CAMBIO   CV COMBUSTIBLE COLOR   PROVEEDOR  YEARS  \\\n",
       "0     RENAULT MEGANE    1.6  MANUAL   75    GASOLINA   NaN     G.COSTA     10   \n",
       "1          VOLVO S60    2.5  MANUAL  145    GASOLINA   NaN  PARTICULAR      7   \n",
       "2  VOLKSWAGEN PASSAT    1.9  MANUAL  130      DIESEL   NaN   LEASEPLAN      5   \n",
       "3        SEAT TOLEDO    1.9  MANUAL  110      DIESEL   NaN   LEASEPLAN      5   \n",
       "4      SKODA OCTAVIA    1.9  MANUAL  105      DIESEL   NaN   LEASEPLAN      3   \n",
       "\n",
       "   PLAZAS      PCC  ...  edad  mes  year  CTE.GARANTÍA  CTE..PREPARACIÓN  \\\n",
       "0     NaN    956.6  ...   NaN    1  2008           NaN               NaN   \n",
       "1     NaN   7900.0  ...   NaN    2  2008           NaN               NaN   \n",
       "2     NaN  11200.0  ...   NaN    2  2008           NaN               NaN   \n",
       "3     NaN   7300.0  ...   NaN    3  2008           NaN               NaN   \n",
       "4     NaN  10000.0  ...   NaN    3  2008           NaN               NaN   \n",
       "\n",
       "   CTE.TOTAL BF.NETO GARANTIA  MESES GARANTIA2  \n",
       "0        NaN     NaN      NaN    NaN       NaN  \n",
       "1        NaN     NaN      NaN    NaN       NaN  \n",
       "2        NaN     NaN      NaN    NaN       NaN  \n",
       "3        NaN     NaN      NaN    NaN       NaN  \n",
       "4        NaN     NaN      NaN    NaN       NaN  \n",
       "\n",
       "[5 rows x 34 columns]"
      ]
     },
     "execution_count": 2,
     "metadata": {},
     "output_type": "execute_result"
    }
   ],
   "source": [
    "\n",
    "#Load Data From xlsx File\n",
    "#Let's load the dataset \n",
    "\n",
    "\n",
    "df = pd.read_excel(data_path / 'VENDIDOS1MESHISTORICOml2.xlsx')\n",
    "\n",
    "df.head()\n"
   ]
  },
  {
   "cell_type": "code",
   "execution_count": 3,
   "metadata": {},
   "outputs": [
    {
     "data": {
      "text/plain": [
       "(393, 34)"
      ]
     },
     "execution_count": 3,
     "metadata": {},
     "output_type": "execute_result"
    }
   ],
   "source": [
    "df.shape"
   ]
  },
  {
   "cell_type": "code",
   "execution_count": 4,
   "metadata": {},
   "outputs": [
    {
     "data": {
      "text/plain": [
       "1.0    190\n",
       "2.0    104\n",
       "Name: MESES, dtype: int64"
      ]
     },
     "execution_count": 4,
     "metadata": {},
     "output_type": "execute_result"
    }
   ],
   "source": [
    "df['MESES'].value_counts()"
   ]
  },
  {
   "cell_type": "code",
   "execution_count": 5,
   "metadata": {},
   "outputs": [
    {
     "data": {
      "text/plain": [
       "array([[<matplotlib.axes._subplots.AxesSubplot object at 0x00000291982A1E88>]],\n",
       "      dtype=object)"
      ]
     },
     "execution_count": 5,
     "metadata": {},
     "output_type": "execute_result"
    },
    {
     "data": {
      "image/png": "[encoded data removed]",
      "text/plain": [
       "<Figure size 432x288 with 1 Axes>"
      ]
     },
     "metadata": {
      "needs_background": "light"
     },
     "output_type": "display_data"
    }
   ],
   "source": [
    "df.hist(column='KM', bins=50)"
   ]
  },
  {
   "cell_type": "code",
   "execution_count": 6,
   "metadata": {},
   "outputs": [],
   "source": [
    "\n",
    "#Use one hot encoding technique to conver categorical varables to binary variables and append them to the feature Data Frame\n",
    "df.drop(['GARANTIA','MOTOR','COLOR','PCOMPRA','BF.NETO','CTE.TOTAL','CTE.GARANTÍA','edad','sexo','nacionalidad','pais','provincia','localidad','C.P','C AUTO1','NETO','BRUTO','mes'], axis = 'columns', inplace=True)"
   ]
  },
  {
   "cell_type": "code",
   "execution_count": 7,
   "metadata": {},
   "outputs": [
    {
     "data": {
      "text/html": [
       "<div>\n",
       "<style scoped>\n",
       "    .dataframe tbody tr th:only-of-type {\n",
       "        vertical-align: middle;\n",
       "    }\n",
       "\n",
       "    .dataframe tbody tr th {\n",
       "        vertical-align: top;\n",
       "    }\n",
       "\n",
       "    .dataframe thead th {\n",
       "        text-align: right;\n",
       "    }\n",
       "</style>\n",
       "<table border=\"1\" class=\"dataframe\">\n",
       "  <thead>\n",
       "    <tr style=\"text-align: right;\">\n",
       "      <th></th>\n",
       "      <th>MARCA MODELO</th>\n",
       "      <th>CAMBIO</th>\n",
       "      <th>CV</th>\n",
       "      <th>COMBUSTIBLE</th>\n",
       "      <th>PROVEEDOR</th>\n",
       "      <th>YEARS</th>\n",
       "      <th>PLAZAS</th>\n",
       "      <th>PCC</th>\n",
       "      <th>PVENTA</th>\n",
       "      <th>KM</th>\n",
       "      <th>tipo</th>\n",
       "      <th>llantas</th>\n",
       "      <th>year</th>\n",
       "      <th>CTE..PREPARACIÓN</th>\n",
       "      <th>MESES</th>\n",
       "      <th>GARANTIA2</th>\n",
       "    </tr>\n",
       "  </thead>\n",
       "  <tbody>\n",
       "    <tr>\n",
       "      <th>0</th>\n",
       "      <td>RENAULT MEGANE</td>\n",
       "      <td>MANUAL</td>\n",
       "      <td>75</td>\n",
       "      <td>GASOLINA</td>\n",
       "      <td>G.COSTA</td>\n",
       "      <td>10</td>\n",
       "      <td>NaN</td>\n",
       "      <td>956.6</td>\n",
       "      <td>4500</td>\n",
       "      <td>109988</td>\n",
       "      <td>med</td>\n",
       "      <td>si</td>\n",
       "      <td>2008</td>\n",
       "      <td>NaN</td>\n",
       "      <td>NaN</td>\n",
       "      <td>NaN</td>\n",
       "    </tr>\n",
       "    <tr>\n",
       "      <th>1</th>\n",
       "      <td>VOLVO S60</td>\n",
       "      <td>MANUAL</td>\n",
       "      <td>145</td>\n",
       "      <td>GASOLINA</td>\n",
       "      <td>PARTICULAR</td>\n",
       "      <td>7</td>\n",
       "      <td>NaN</td>\n",
       "      <td>7900.0</td>\n",
       "      <td>10500</td>\n",
       "      <td>185390</td>\n",
       "      <td>gra</td>\n",
       "      <td>si</td>\n",
       "      <td>2008</td>\n",
       "      <td>NaN</td>\n",
       "      <td>NaN</td>\n",
       "      <td>NaN</td>\n",
       "    </tr>\n",
       "    <tr>\n",
       "      <th>2</th>\n",
       "      <td>VOLKSWAGEN PASSAT</td>\n",
       "      <td>MANUAL</td>\n",
       "      <td>130</td>\n",
       "      <td>DIESEL</td>\n",
       "      <td>LEASEPLAN</td>\n",
       "      <td>5</td>\n",
       "      <td>NaN</td>\n",
       "      <td>11200.0</td>\n",
       "      <td>15750</td>\n",
       "      <td>73790</td>\n",
       "      <td>gra</td>\n",
       "      <td>si</td>\n",
       "      <td>2008</td>\n",
       "      <td>NaN</td>\n",
       "      <td>NaN</td>\n",
       "      <td>NaN</td>\n",
       "    </tr>\n",
       "    <tr>\n",
       "      <th>3</th>\n",
       "      <td>SEAT TOLEDO</td>\n",
       "      <td>MANUAL</td>\n",
       "      <td>110</td>\n",
       "      <td>DIESEL</td>\n",
       "      <td>LEASEPLAN</td>\n",
       "      <td>5</td>\n",
       "      <td>NaN</td>\n",
       "      <td>7300.0</td>\n",
       "      <td>9900</td>\n",
       "      <td>97257</td>\n",
       "      <td>gra</td>\n",
       "      <td>si</td>\n",
       "      <td>2008</td>\n",
       "      <td>NaN</td>\n",
       "      <td>NaN</td>\n",
       "      <td>NaN</td>\n",
       "    </tr>\n",
       "    <tr>\n",
       "      <th>4</th>\n",
       "      <td>SKODA OCTAVIA</td>\n",
       "      <td>MANUAL</td>\n",
       "      <td>105</td>\n",
       "      <td>DIESEL</td>\n",
       "      <td>LEASEPLAN</td>\n",
       "      <td>3</td>\n",
       "      <td>NaN</td>\n",
       "      <td>10000.0</td>\n",
       "      <td>12600</td>\n",
       "      <td>92481</td>\n",
       "      <td>gra</td>\n",
       "      <td>si</td>\n",
       "      <td>2008</td>\n",
       "      <td>NaN</td>\n",
       "      <td>NaN</td>\n",
       "      <td>NaN</td>\n",
       "    </tr>\n",
       "  </tbody>\n",
       "</table>\n",
       "</div>"
      ],
      "text/plain": [
       "        MARCA MODELO  CAMBIO   CV COMBUSTIBLE   PROVEEDOR  YEARS  PLAZAS  \\\n",
       "0     RENAULT MEGANE  MANUAL   75    GASOLINA     G.COSTA     10     NaN   \n",
       "1          VOLVO S60  MANUAL  145    GASOLINA  PARTICULAR      7     NaN   \n",
       "2  VOLKSWAGEN PASSAT  MANUAL  130      DIESEL   LEASEPLAN      5     NaN   \n",
       "3        SEAT TOLEDO  MANUAL  110      DIESEL   LEASEPLAN      5     NaN   \n",
       "4      SKODA OCTAVIA  MANUAL  105      DIESEL   LEASEPLAN      3     NaN   \n",
       "\n",
       "       PCC  PVENTA      KM tipo llantas  year  CTE..PREPARACIÓN  MESES  \\\n",
       "0    956.6    4500  109988  med      si  2008               NaN    NaN   \n",
       "1   7900.0   10500  185390  gra      si  2008               NaN    NaN   \n",
       "2  11200.0   15750   73790  gra      si  2008               NaN    NaN   \n",
       "3   7300.0    9900   97257  gra      si  2008               NaN    NaN   \n",
       "4  10000.0   12600   92481  gra      si  2008               NaN    NaN   \n",
       "\n",
       "  GARANTIA2  \n",
       "0       NaN  \n",
       "1       NaN  \n",
       "2       NaN  \n",
       "3       NaN  \n",
       "4       NaN  "
      ]
     },
     "execution_count": 7,
     "metadata": {},
     "output_type": "execute_result"
    }
   ],
   "source": [
    "#Feature after One Hot Encoding\n",
    "df.head()"
   ]
  },
  {
   "cell_type": "code",
   "execution_count": 8,
   "metadata": {},
   "outputs": [
    {
     "data": {
      "text/html": [
       "<div>\n",
       "<style scoped>\n",
       "    .dataframe tbody tr th:only-of-type {\n",
       "        vertical-align: middle;\n",
       "    }\n",
       "\n",
       "    .dataframe tbody tr th {\n",
       "        vertical-align: top;\n",
       "    }\n",
       "\n",
       "    .dataframe thead th {\n",
       "        text-align: right;\n",
       "    }\n",
       "</style>\n",
       "<table border=\"1\" class=\"dataframe\">\n",
       "  <thead>\n",
       "    <tr style=\"text-align: right;\">\n",
       "      <th></th>\n",
       "      <th>MARCA MODELO</th>\n",
       "      <th>CAMBIO</th>\n",
       "      <th>CV</th>\n",
       "      <th>COMBUSTIBLE</th>\n",
       "      <th>PROVEEDOR</th>\n",
       "      <th>YEARS</th>\n",
       "      <th>PLAZAS</th>\n",
       "      <th>PCC</th>\n",
       "      <th>PVENTA</th>\n",
       "      <th>KM</th>\n",
       "      <th>tipo</th>\n",
       "      <th>llantas</th>\n",
       "      <th>year</th>\n",
       "      <th>CTE..PREPARACIÓN</th>\n",
       "      <th>MESES</th>\n",
       "      <th>GARANTIA2</th>\n",
       "    </tr>\n",
       "  </thead>\n",
       "  <tbody>\n",
       "    <tr>\n",
       "      <th>99</th>\n",
       "      <td>VOLKSWAGEN POLO</td>\n",
       "      <td>MANUAL</td>\n",
       "      <td>75</td>\n",
       "      <td>GASOLINA</td>\n",
       "      <td>MAVISA</td>\n",
       "      <td>12</td>\n",
       "      <td>5.0</td>\n",
       "      <td>1805.0</td>\n",
       "      <td>4500</td>\n",
       "      <td>91431</td>\n",
       "      <td>peq</td>\n",
       "      <td>si</td>\n",
       "      <td>2016</td>\n",
       "      <td>2089.46</td>\n",
       "      <td>2.0</td>\n",
       "      <td>si</td>\n",
       "    </tr>\n",
       "    <tr>\n",
       "      <th>100</th>\n",
       "      <td>OPEL INSIGNIA</td>\n",
       "      <td>MANUAL</td>\n",
       "      <td>130</td>\n",
       "      <td>DIESEL</td>\n",
       "      <td>ARVAL</td>\n",
       "      <td>4</td>\n",
       "      <td>5.0</td>\n",
       "      <td>10821.0</td>\n",
       "      <td>13300</td>\n",
       "      <td>74210</td>\n",
       "      <td>gra</td>\n",
       "      <td>si</td>\n",
       "      <td>2016</td>\n",
       "      <td>307.60</td>\n",
       "      <td>1.0</td>\n",
       "      <td>si</td>\n",
       "    </tr>\n",
       "    <tr>\n",
       "      <th>101</th>\n",
       "      <td>CITROEN C4</td>\n",
       "      <td>MANUAL</td>\n",
       "      <td>110</td>\n",
       "      <td>GASOLINA</td>\n",
       "      <td>AUTO1</td>\n",
       "      <td>10</td>\n",
       "      <td>5.0</td>\n",
       "      <td>2250.0</td>\n",
       "      <td>5300</td>\n",
       "      <td>82294</td>\n",
       "      <td>med</td>\n",
       "      <td>no</td>\n",
       "      <td>2016</td>\n",
       "      <td>986.07</td>\n",
       "      <td>1.0</td>\n",
       "      <td>si</td>\n",
       "    </tr>\n",
       "    <tr>\n",
       "      <th>102</th>\n",
       "      <td>AUDI A4</td>\n",
       "      <td>MANUAL</td>\n",
       "      <td>130</td>\n",
       "      <td>DIESEL</td>\n",
       "      <td>MUNDOMOVIL</td>\n",
       "      <td>12</td>\n",
       "      <td>5.0</td>\n",
       "      <td>4000.0</td>\n",
       "      <td>7500</td>\n",
       "      <td>184488</td>\n",
       "      <td>gra</td>\n",
       "      <td>si</td>\n",
       "      <td>2016</td>\n",
       "      <td>967.89</td>\n",
       "      <td>1.0</td>\n",
       "      <td>si</td>\n",
       "    </tr>\n",
       "    <tr>\n",
       "      <th>103</th>\n",
       "      <td>RENAULT TRAFIC</td>\n",
       "      <td>MANUAL</td>\n",
       "      <td>115</td>\n",
       "      <td>DIESEL</td>\n",
       "      <td>ARVAL</td>\n",
       "      <td>6</td>\n",
       "      <td>6.0</td>\n",
       "      <td>10900.0</td>\n",
       "      <td>13700</td>\n",
       "      <td>84172</td>\n",
       "      <td>fur</td>\n",
       "      <td>no</td>\n",
       "      <td>2016</td>\n",
       "      <td>821.60</td>\n",
       "      <td>1.0</td>\n",
       "      <td>si</td>\n",
       "    </tr>\n",
       "  </tbody>\n",
       "</table>\n",
       "</div>"
      ],
      "text/plain": [
       "        MARCA MODELO  CAMBIO   CV COMBUSTIBLE   PROVEEDOR  YEARS  PLAZAS  \\\n",
       "99   VOLKSWAGEN POLO  MANUAL   75    GASOLINA      MAVISA     12     5.0   \n",
       "100    OPEL INSIGNIA  MANUAL  130      DIESEL       ARVAL      4     5.0   \n",
       "101       CITROEN C4  MANUAL  110    GASOLINA       AUTO1     10     5.0   \n",
       "102          AUDI A4  MANUAL  130      DIESEL  MUNDOMOVIL     12     5.0   \n",
       "103   RENAULT TRAFIC  MANUAL  115      DIESEL       ARVAL      6     6.0   \n",
       "\n",
       "         PCC  PVENTA      KM tipo llantas  year  CTE..PREPARACIÓN  MESES  \\\n",
       "99    1805.0    4500   91431  peq      si  2016           2089.46    2.0   \n",
       "100  10821.0   13300   74210  gra      si  2016            307.60    1.0   \n",
       "101   2250.0    5300   82294  med      no  2016            986.07    1.0   \n",
       "102   4000.0    7500  184488  gra      si  2016            967.89    1.0   \n",
       "103  10900.0   13700   84172  fur      no  2016            821.60    1.0   \n",
       "\n",
       "    GARANTIA2  \n",
       "99         si  \n",
       "100        si  \n",
       "101        si  \n",
       "102        si  \n",
       "103        si  "
      ]
     },
     "execution_count": 8,
     "metadata": {},
     "output_type": "execute_result"
    }
   ],
   "source": [
    "df = df.dropna()\n",
    "df.head()"
   ]
  },
  {
   "cell_type": "code",
   "execution_count": 9,
   "metadata": {},
   "outputs": [
    {
     "data": {
      "text/html": [
       "<div>\n",
       "<style scoped>\n",
       "    .dataframe tbody tr th:only-of-type {\n",
       "        vertical-align: middle;\n",
       "    }\n",
       "\n",
       "    .dataframe tbody tr th {\n",
       "        vertical-align: top;\n",
       "    }\n",
       "\n",
       "    .dataframe thead th {\n",
       "        text-align: right;\n",
       "    }\n",
       "</style>\n",
       "<table border=\"1\" class=\"dataframe\">\n",
       "  <thead>\n",
       "    <tr style=\"text-align: right;\">\n",
       "      <th></th>\n",
       "      <th>MESES</th>\n",
       "      <th>CV</th>\n",
       "      <th>YEARS</th>\n",
       "      <th>PLAZAS</th>\n",
       "      <th>PCC</th>\n",
       "      <th>PVENTA</th>\n",
       "      <th>KM</th>\n",
       "      <th>year</th>\n",
       "      <th>CTE..PREPARACIÓN</th>\n",
       "    </tr>\n",
       "  </thead>\n",
       "  <tbody>\n",
       "    <tr>\n",
       "      <th>0</th>\n",
       "      <td>1.0</td>\n",
       "      <td>110.515789</td>\n",
       "      <td>8.910526</td>\n",
       "      <td>5.168421</td>\n",
       "      <td>5036.711105</td>\n",
       "      <td>7861.152632</td>\n",
       "      <td>84688.684211</td>\n",
       "      <td>2016.884211</td>\n",
       "      <td>772.106368</td>\n",
       "    </tr>\n",
       "    <tr>\n",
       "      <th>1</th>\n",
       "      <td>2.0</td>\n",
       "      <td>106.134615</td>\n",
       "      <td>9.413462</td>\n",
       "      <td>5.115385</td>\n",
       "      <td>4709.759231</td>\n",
       "      <td>7115.500000</td>\n",
       "      <td>101782.778846</td>\n",
       "      <td>2017.336538</td>\n",
       "      <td>1152.810577</td>\n",
       "    </tr>\n",
       "  </tbody>\n",
       "</table>\n",
       "</div>"
      ],
      "text/plain": [
       "   MESES          CV     YEARS    PLAZAS          PCC       PVENTA  \\\n",
       "0    1.0  110.515789  8.910526  5.168421  5036.711105  7861.152632   \n",
       "1    2.0  106.134615  9.413462  5.115385  4709.759231  7115.500000   \n",
       "\n",
       "              KM         year  CTE..PREPARACIÓN  \n",
       "0   84688.684211  2016.884211        772.106368  \n",
       "1  101782.778846  2017.336538       1152.810577  "
      ]
     },
     "execution_count": 9,
     "metadata": {},
     "output_type": "execute_result"
    }
   ],
   "source": [
    "\n",
    "grouped_test_meses = df.groupby(['MESES'],as_index= False).mean()\n",
    "grouped_test_meses\n"
   ]
  },
  {
   "cell_type": "code",
   "execution_count": 10,
   "metadata": {},
   "outputs": [
    {
     "data": {
      "text/html": [
       "<div>\n",
       "<style scoped>\n",
       "    .dataframe tbody tr th:only-of-type {\n",
       "        vertical-align: middle;\n",
       "    }\n",
       "\n",
       "    .dataframe tbody tr th {\n",
       "        vertical-align: top;\n",
       "    }\n",
       "\n",
       "    .dataframe thead th {\n",
       "        text-align: right;\n",
       "    }\n",
       "</style>\n",
       "<table border=\"1\" class=\"dataframe\">\n",
       "  <thead>\n",
       "    <tr style=\"text-align: right;\">\n",
       "      <th></th>\n",
       "      <th>year</th>\n",
       "      <th>CV</th>\n",
       "      <th>YEARS</th>\n",
       "      <th>PLAZAS</th>\n",
       "      <th>PCC</th>\n",
       "      <th>PVENTA</th>\n",
       "      <th>KM</th>\n",
       "      <th>CTE..PREPARACIÓN</th>\n",
       "      <th>MESES</th>\n",
       "    </tr>\n",
       "  </thead>\n",
       "  <tbody>\n",
       "    <tr>\n",
       "      <th>0</th>\n",
       "      <td>2015</td>\n",
       "      <td>114.927711</td>\n",
       "      <td>7.939759</td>\n",
       "      <td>5.120482</td>\n",
       "      <td>5086.043253</td>\n",
       "      <td>7726.746988</td>\n",
       "      <td>109359.397590</td>\n",
       "      <td>845.671446</td>\n",
       "      <td>1.361446</td>\n",
       "    </tr>\n",
       "    <tr>\n",
       "      <th>1</th>\n",
       "      <td>2016</td>\n",
       "      <td>114.477612</td>\n",
       "      <td>8.000000</td>\n",
       "      <td>5.208955</td>\n",
       "      <td>6052.134328</td>\n",
       "      <td>8925.074627</td>\n",
       "      <td>96598.134328</td>\n",
       "      <td>785.515522</td>\n",
       "      <td>1.268657</td>\n",
       "    </tr>\n",
       "    <tr>\n",
       "      <th>2</th>\n",
       "      <td>2017</td>\n",
       "      <td>108.533333</td>\n",
       "      <td>8.533333</td>\n",
       "      <td>5.300000</td>\n",
       "      <td>5307.850333</td>\n",
       "      <td>8060.133333</td>\n",
       "      <td>95596.933333</td>\n",
       "      <td>892.188667</td>\n",
       "      <td>1.400000</td>\n",
       "    </tr>\n",
       "    <tr>\n",
       "      <th>3</th>\n",
       "      <td>2018</td>\n",
       "      <td>105.292683</td>\n",
       "      <td>9.975610</td>\n",
       "      <td>5.219512</td>\n",
       "      <td>4419.829268</td>\n",
       "      <td>7120.780488</td>\n",
       "      <td>79115.195122</td>\n",
       "      <td>928.965366</td>\n",
       "      <td>1.292683</td>\n",
       "    </tr>\n",
       "    <tr>\n",
       "      <th>4</th>\n",
       "      <td>2019</td>\n",
       "      <td>99.694444</td>\n",
       "      <td>10.138889</td>\n",
       "      <td>5.000000</td>\n",
       "      <td>3866.610278</td>\n",
       "      <td>6390.555556</td>\n",
       "      <td>61861.500000</td>\n",
       "      <td>1089.972778</td>\n",
       "      <td>1.277778</td>\n",
       "    </tr>\n",
       "    <tr>\n",
       "      <th>5</th>\n",
       "      <td>2020</td>\n",
       "      <td>101.578947</td>\n",
       "      <td>11.052632</td>\n",
       "      <td>5.000000</td>\n",
       "      <td>4083.052632</td>\n",
       "      <td>6378.421053</td>\n",
       "      <td>69018.263158</td>\n",
       "      <td>1208.145789</td>\n",
       "      <td>1.526316</td>\n",
       "    </tr>\n",
       "    <tr>\n",
       "      <th>6</th>\n",
       "      <td>2021</td>\n",
       "      <td>93.214286</td>\n",
       "      <td>12.428571</td>\n",
       "      <td>5.142857</td>\n",
       "      <td>3605.928571</td>\n",
       "      <td>6162.857143</td>\n",
       "      <td>80879.928571</td>\n",
       "      <td>908.870714</td>\n",
       "      <td>1.642857</td>\n",
       "    </tr>\n",
       "    <tr>\n",
       "      <th>7</th>\n",
       "      <td>2022</td>\n",
       "      <td>107.500000</td>\n",
       "      <td>15.750000</td>\n",
       "      <td>5.000000</td>\n",
       "      <td>2862.000000</td>\n",
       "      <td>5761.250000</td>\n",
       "      <td>86260.750000</td>\n",
       "      <td>1000.255000</td>\n",
       "      <td>1.750000</td>\n",
       "    </tr>\n",
       "  </tbody>\n",
       "</table>\n",
       "</div>"
      ],
      "text/plain": [
       "   year          CV      YEARS    PLAZAS          PCC       PVENTA  \\\n",
       "0  2015  114.927711   7.939759  5.120482  5086.043253  7726.746988   \n",
       "1  2016  114.477612   8.000000  5.208955  6052.134328  8925.074627   \n",
       "2  2017  108.533333   8.533333  5.300000  5307.850333  8060.133333   \n",
       "3  2018  105.292683   9.975610  5.219512  4419.829268  7120.780488   \n",
       "4  2019   99.694444  10.138889  5.000000  3866.610278  6390.555556   \n",
       "5  2020  101.578947  11.052632  5.000000  4083.052632  6378.421053   \n",
       "6  2021   93.214286  12.428571  5.142857  3605.928571  6162.857143   \n",
       "7  2022  107.500000  15.750000  5.000000  2862.000000  5761.250000   \n",
       "\n",
       "              KM  CTE..PREPARACIÓN     MESES  \n",
       "0  109359.397590        845.671446  1.361446  \n",
       "1   96598.134328        785.515522  1.268657  \n",
       "2   95596.933333        892.188667  1.400000  \n",
       "3   79115.195122        928.965366  1.292683  \n",
       "4   61861.500000       1089.972778  1.277778  \n",
       "5   69018.263158       1208.145789  1.526316  \n",
       "6   80879.928571        908.870714  1.642857  \n",
       "7   86260.750000       1000.255000  1.750000  "
      ]
     },
     "execution_count": 10,
     "metadata": {},
     "output_type": "execute_result"
    }
   ],
   "source": [
    "# Let´s look at features evolution over years.\n",
    "grouped_test_meses = df.groupby(['year'],as_index= False).mean()\n",
    "grouped_test_meses"
   ]
  },
  {
   "cell_type": "markdown",
   "metadata": {},
   "source": [
    "We want to know wich cars  returns the largest item in each argument for MESES==1.0 in year>=2020, group by year tipo and COMBUSTIBLE."
   ]
  },
  {
   "cell_type": "code",
   "execution_count": 11,
   "metadata": {},
   "outputs": [
    {
     "data": {
      "text/html": [
       "<div>\n",
       "<style scoped>\n",
       "    .dataframe tbody tr th:only-of-type {\n",
       "        vertical-align: middle;\n",
       "    }\n",
       "\n",
       "    .dataframe tbody tr th {\n",
       "        vertical-align: top;\n",
       "    }\n",
       "\n",
       "    .dataframe thead th {\n",
       "        text-align: right;\n",
       "    }\n",
       "</style>\n",
       "<table border=\"1\" class=\"dataframe\">\n",
       "  <thead>\n",
       "    <tr style=\"text-align: right;\">\n",
       "      <th></th>\n",
       "      <th>MESES</th>\n",
       "      <th>year</th>\n",
       "      <th>tipo</th>\n",
       "      <th>COMBUSTIBLE</th>\n",
       "      <th>CV</th>\n",
       "      <th>YEARS</th>\n",
       "      <th>PLAZAS</th>\n",
       "      <th>PCC</th>\n",
       "      <th>PVENTA</th>\n",
       "      <th>KM</th>\n",
       "      <th>CTE..PREPARACIÓN</th>\n",
       "      <th>GARANTIA2</th>\n",
       "    </tr>\n",
       "  </thead>\n",
       "  <tbody>\n",
       "    <tr>\n",
       "      <th>47</th>\n",
       "      <td>1.0</td>\n",
       "      <td>2020</td>\n",
       "      <td>med</td>\n",
       "      <td>DIESEL</td>\n",
       "      <td>110</td>\n",
       "      <td>14</td>\n",
       "      <td>5.0</td>\n",
       "      <td>3581.0</td>\n",
       "      <td>6250</td>\n",
       "      <td>85589</td>\n",
       "      <td>1449.67</td>\n",
       "      <td>si</td>\n",
       "    </tr>\n",
       "    <tr>\n",
       "      <th>48</th>\n",
       "      <td>1.0</td>\n",
       "      <td>2020</td>\n",
       "      <td>med</td>\n",
       "      <td>GASOLINA</td>\n",
       "      <td>125</td>\n",
       "      <td>15</td>\n",
       "      <td>5.0</td>\n",
       "      <td>1962.0</td>\n",
       "      <td>4700</td>\n",
       "      <td>37374</td>\n",
       "      <td>455.25</td>\n",
       "      <td>si</td>\n",
       "    </tr>\n",
       "    <tr>\n",
       "      <th>49</th>\n",
       "      <td>1.0</td>\n",
       "      <td>2020</td>\n",
       "      <td>mon</td>\n",
       "      <td>GASOLINA</td>\n",
       "      <td>110</td>\n",
       "      <td>11</td>\n",
       "      <td>5.0</td>\n",
       "      <td>3631.0</td>\n",
       "      <td>6200</td>\n",
       "      <td>43482</td>\n",
       "      <td>775.15</td>\n",
       "      <td>si</td>\n",
       "    </tr>\n",
       "    <tr>\n",
       "      <th>50</th>\n",
       "      <td>1.0</td>\n",
       "      <td>2020</td>\n",
       "      <td>peq</td>\n",
       "      <td>GASOLINA</td>\n",
       "      <td>88</td>\n",
       "      <td>12</td>\n",
       "      <td>5.0</td>\n",
       "      <td>4940.0</td>\n",
       "      <td>7500</td>\n",
       "      <td>56619</td>\n",
       "      <td>1449.58</td>\n",
       "      <td>si</td>\n",
       "    </tr>\n",
       "    <tr>\n",
       "      <th>51</th>\n",
       "      <td>1.0</td>\n",
       "      <td>2021</td>\n",
       "      <td>gra</td>\n",
       "      <td>GASOLINA</td>\n",
       "      <td>125</td>\n",
       "      <td>14</td>\n",
       "      <td>5.0</td>\n",
       "      <td>2053.0</td>\n",
       "      <td>5795</td>\n",
       "      <td>91414</td>\n",
       "      <td>1490.32</td>\n",
       "      <td>si</td>\n",
       "    </tr>\n",
       "    <tr>\n",
       "      <th>52</th>\n",
       "      <td>1.0</td>\n",
       "      <td>2021</td>\n",
       "      <td>med</td>\n",
       "      <td>GASOLINA</td>\n",
       "      <td>115</td>\n",
       "      <td>16</td>\n",
       "      <td>5.0</td>\n",
       "      <td>4350.0</td>\n",
       "      <td>7100</td>\n",
       "      <td>86124</td>\n",
       "      <td>1045.56</td>\n",
       "      <td>si</td>\n",
       "    </tr>\n",
       "    <tr>\n",
       "      <th>53</th>\n",
       "      <td>1.0</td>\n",
       "      <td>2021</td>\n",
       "      <td>peq</td>\n",
       "      <td>DIESEL</td>\n",
       "      <td>90</td>\n",
       "      <td>14</td>\n",
       "      <td>5.0</td>\n",
       "      <td>3732.0</td>\n",
       "      <td>6450</td>\n",
       "      <td>78567</td>\n",
       "      <td>1226.75</td>\n",
       "      <td>si</td>\n",
       "    </tr>\n",
       "    <tr>\n",
       "      <th>54</th>\n",
       "      <td>1.0</td>\n",
       "      <td>2022</td>\n",
       "      <td>med</td>\n",
       "      <td>DIESEL</td>\n",
       "      <td>125</td>\n",
       "      <td>11</td>\n",
       "      <td>5.0</td>\n",
       "      <td>4500.0</td>\n",
       "      <td>7800</td>\n",
       "      <td>103186</td>\n",
       "      <td>0.00</td>\n",
       "      <td>si</td>\n",
       "    </tr>\n",
       "  </tbody>\n",
       "</table>\n",
       "</div>"
      ],
      "text/plain": [
       "    MESES  year tipo COMBUSTIBLE   CV  YEARS  PLAZAS     PCC  PVENTA      KM  \\\n",
       "47    1.0  2020  med      DIESEL  110     14     5.0  3581.0    6250   85589   \n",
       "48    1.0  2020  med    GASOLINA  125     15     5.0  1962.0    4700   37374   \n",
       "49    1.0  2020  mon    GASOLINA  110     11     5.0  3631.0    6200   43482   \n",
       "50    1.0  2020  peq    GASOLINA   88     12     5.0  4940.0    7500   56619   \n",
       "51    1.0  2021  gra    GASOLINA  125     14     5.0  2053.0    5795   91414   \n",
       "52    1.0  2021  med    GASOLINA  115     16     5.0  4350.0    7100   86124   \n",
       "53    1.0  2021  peq      DIESEL   90     14     5.0  3732.0    6450   78567   \n",
       "54    1.0  2022  med      DIESEL  125     11     5.0  4500.0    7800  103186   \n",
       "\n",
       "    CTE..PREPARACIÓN GARANTIA2  \n",
       "47           1449.67        si  \n",
       "48            455.25        si  \n",
       "49            775.15        si  \n",
       "50           1449.58        si  \n",
       "51           1490.32        si  \n",
       "52           1045.56        si  \n",
       "53           1226.75        si  \n",
       "54              0.00        si  "
      ]
     },
     "execution_count": 11,
     "metadata": {},
     "output_type": "execute_result"
    }
   ],
   "source": [
    "grouped_test_mesesmax = df.groupby(['MESES','year','tipo','COMBUSTIBLE'],as_index= False).max()\n",
    "grouped_test_mesesmax.drop(['MARCA MODELO','CAMBIO','PROVEEDOR','llantas'], axis = 'columns', inplace=True)\n",
    "grouped_test_mesesmax[(grouped_test_mesesmax.year>=2020) & (grouped_test_mesesmax.MESES==1.0)]\n",
    "\n"
   ]
  },
  {
   "cell_type": "markdown",
   "metadata": {},
   "source": [
    "Now we are looking for wich cars  returns the smallest item in each argument for MESES==1.0 in year>=2020, group by year tipo and COMBUSTIBLE."
   ]
  },
  {
   "cell_type": "code",
   "execution_count": 12,
   "metadata": {},
   "outputs": [
    {
     "data": {
      "text/html": [
       "<div>\n",
       "<style scoped>\n",
       "    .dataframe tbody tr th:only-of-type {\n",
       "        vertical-align: middle;\n",
       "    }\n",
       "\n",
       "    .dataframe tbody tr th {\n",
       "        vertical-align: top;\n",
       "    }\n",
       "\n",
       "    .dataframe thead th {\n",
       "        text-align: right;\n",
       "    }\n",
       "</style>\n",
       "<table border=\"1\" class=\"dataframe\">\n",
       "  <thead>\n",
       "    <tr style=\"text-align: right;\">\n",
       "      <th></th>\n",
       "      <th>MESES</th>\n",
       "      <th>year</th>\n",
       "      <th>tipo</th>\n",
       "      <th>COMBUSTIBLE</th>\n",
       "      <th>CV</th>\n",
       "      <th>YEARS</th>\n",
       "      <th>PLAZAS</th>\n",
       "      <th>PCC</th>\n",
       "      <th>PVENTA</th>\n",
       "      <th>KM</th>\n",
       "      <th>CTE..PREPARACIÓN</th>\n",
       "      <th>GARANTIA2</th>\n",
       "    </tr>\n",
       "  </thead>\n",
       "  <tbody>\n",
       "    <tr>\n",
       "      <th>47</th>\n",
       "      <td>1.0</td>\n",
       "      <td>2020</td>\n",
       "      <td>med</td>\n",
       "      <td>DIESEL</td>\n",
       "      <td>81</td>\n",
       "      <td>10</td>\n",
       "      <td>5.0</td>\n",
       "      <td>1000.0</td>\n",
       "      <td>4300</td>\n",
       "      <td>35253</td>\n",
       "      <td>411.69</td>\n",
       "      <td>si</td>\n",
       "    </tr>\n",
       "    <tr>\n",
       "      <th>48</th>\n",
       "      <td>1.0</td>\n",
       "      <td>2020</td>\n",
       "      <td>med</td>\n",
       "      <td>GASOLINA</td>\n",
       "      <td>125</td>\n",
       "      <td>15</td>\n",
       "      <td>5.0</td>\n",
       "      <td>1962.0</td>\n",
       "      <td>4700</td>\n",
       "      <td>37374</td>\n",
       "      <td>455.25</td>\n",
       "      <td>si</td>\n",
       "    </tr>\n",
       "    <tr>\n",
       "      <th>49</th>\n",
       "      <td>1.0</td>\n",
       "      <td>2020</td>\n",
       "      <td>mon</td>\n",
       "      <td>GASOLINA</td>\n",
       "      <td>110</td>\n",
       "      <td>11</td>\n",
       "      <td>5.0</td>\n",
       "      <td>3631.0</td>\n",
       "      <td>6200</td>\n",
       "      <td>43482</td>\n",
       "      <td>775.15</td>\n",
       "      <td>si</td>\n",
       "    </tr>\n",
       "    <tr>\n",
       "      <th>50</th>\n",
       "      <td>1.0</td>\n",
       "      <td>2020</td>\n",
       "      <td>peq</td>\n",
       "      <td>GASOLINA</td>\n",
       "      <td>80</td>\n",
       "      <td>7</td>\n",
       "      <td>5.0</td>\n",
       "      <td>3000.0</td>\n",
       "      <td>5800</td>\n",
       "      <td>39235</td>\n",
       "      <td>212.86</td>\n",
       "      <td>si</td>\n",
       "    </tr>\n",
       "    <tr>\n",
       "      <th>51</th>\n",
       "      <td>1.0</td>\n",
       "      <td>2021</td>\n",
       "      <td>gra</td>\n",
       "      <td>GASOLINA</td>\n",
       "      <td>125</td>\n",
       "      <td>14</td>\n",
       "      <td>5.0</td>\n",
       "      <td>2053.0</td>\n",
       "      <td>5795</td>\n",
       "      <td>91414</td>\n",
       "      <td>1490.32</td>\n",
       "      <td>si</td>\n",
       "    </tr>\n",
       "    <tr>\n",
       "      <th>52</th>\n",
       "      <td>1.0</td>\n",
       "      <td>2021</td>\n",
       "      <td>med</td>\n",
       "      <td>GASOLINA</td>\n",
       "      <td>102</td>\n",
       "      <td>14</td>\n",
       "      <td>5.0</td>\n",
       "      <td>2981.0</td>\n",
       "      <td>5600</td>\n",
       "      <td>66898</td>\n",
       "      <td>322.19</td>\n",
       "      <td>si</td>\n",
       "    </tr>\n",
       "    <tr>\n",
       "      <th>53</th>\n",
       "      <td>1.0</td>\n",
       "      <td>2021</td>\n",
       "      <td>peq</td>\n",
       "      <td>DIESEL</td>\n",
       "      <td>70</td>\n",
       "      <td>11</td>\n",
       "      <td>5.0</td>\n",
       "      <td>2041.0</td>\n",
       "      <td>5200</td>\n",
       "      <td>78297</td>\n",
       "      <td>1116.28</td>\n",
       "      <td>si</td>\n",
       "    </tr>\n",
       "    <tr>\n",
       "      <th>54</th>\n",
       "      <td>1.0</td>\n",
       "      <td>2022</td>\n",
       "      <td>med</td>\n",
       "      <td>DIESEL</td>\n",
       "      <td>125</td>\n",
       "      <td>11</td>\n",
       "      <td>5.0</td>\n",
       "      <td>4500.0</td>\n",
       "      <td>7800</td>\n",
       "      <td>103186</td>\n",
       "      <td>0.00</td>\n",
       "      <td>si</td>\n",
       "    </tr>\n",
       "  </tbody>\n",
       "</table>\n",
       "</div>"
      ],
      "text/plain": [
       "    MESES  year tipo COMBUSTIBLE   CV  YEARS  PLAZAS     PCC  PVENTA      KM  \\\n",
       "47    1.0  2020  med      DIESEL   81     10     5.0  1000.0    4300   35253   \n",
       "48    1.0  2020  med    GASOLINA  125     15     5.0  1962.0    4700   37374   \n",
       "49    1.0  2020  mon    GASOLINA  110     11     5.0  3631.0    6200   43482   \n",
       "50    1.0  2020  peq    GASOLINA   80      7     5.0  3000.0    5800   39235   \n",
       "51    1.0  2021  gra    GASOLINA  125     14     5.0  2053.0    5795   91414   \n",
       "52    1.0  2021  med    GASOLINA  102     14     5.0  2981.0    5600   66898   \n",
       "53    1.0  2021  peq      DIESEL   70     11     5.0  2041.0    5200   78297   \n",
       "54    1.0  2022  med      DIESEL  125     11     5.0  4500.0    7800  103186   \n",
       "\n",
       "    CTE..PREPARACIÓN GARANTIA2  \n",
       "47            411.69        si  \n",
       "48            455.25        si  \n",
       "49            775.15        si  \n",
       "50            212.86        si  \n",
       "51           1490.32        si  \n",
       "52            322.19        si  \n",
       "53           1116.28        si  \n",
       "54              0.00        si  "
      ]
     },
     "execution_count": 12,
     "metadata": {},
     "output_type": "execute_result"
    }
   ],
   "source": [
    "\n",
    "grouped_test_mesesmin = df.groupby(['MESES','year','tipo','COMBUSTIBLE'],as_index= False).min()\n",
    "grouped_test_mesesmin.drop(['MARCA MODELO','CAMBIO','PROVEEDOR','llantas'], axis = 'columns', inplace=True)\n",
    "grouped_test_mesesmin[(grouped_test_mesesmax.year>=2020) & (grouped_test_mesesmax.MESES==1.0)]\n"
   ]
  },
  {
   "cell_type": "code",
   "execution_count": 13,
   "metadata": {},
   "outputs": [
    {
     "data": {
      "text/plain": [
       "MARCA MODELO        0\n",
       "CAMBIO              0\n",
       "CV                  0\n",
       "COMBUSTIBLE         0\n",
       "PROVEEDOR           0\n",
       "YEARS               0\n",
       "PLAZAS              0\n",
       "PCC                 0\n",
       "PVENTA              0\n",
       "KM                  0\n",
       "tipo                0\n",
       "llantas             0\n",
       "year                0\n",
       "CTE..PREPARACIÓN    0\n",
       "MESES               0\n",
       "GARANTIA2           0\n",
       "dtype: int64"
      ]
     },
     "execution_count": 13,
     "metadata": {},
     "output_type": "execute_result"
    }
   ],
   "source": [
    "df.isnull().sum()"
   ]
  },
  {
   "cell_type": "code",
   "execution_count": 14,
   "metadata": {},
   "outputs": [],
   "source": [
    "df = pd.DataFrame(df)\n",
    "\n",
    "df_columns = df.columns\n",
    "\n",
    "predictors = df[df_columns[df_columns != 'MESES']] # all columns except MESES \n",
    "target = df['MESES'] # MESES  column"
   ]
  },
  {
   "cell_type": "code",
   "execution_count": 15,
   "metadata": {},
   "outputs": [
    {
     "data": {
      "text/html": [
       "<div>\n",
       "<style scoped>\n",
       "    .dataframe tbody tr th:only-of-type {\n",
       "        vertical-align: middle;\n",
       "    }\n",
       "\n",
       "    .dataframe tbody tr th {\n",
       "        vertical-align: top;\n",
       "    }\n",
       "\n",
       "    .dataframe thead th {\n",
       "        text-align: right;\n",
       "    }\n",
       "</style>\n",
       "<table border=\"1\" class=\"dataframe\">\n",
       "  <thead>\n",
       "    <tr style=\"text-align: right;\">\n",
       "      <th></th>\n",
       "      <th>MARCA MODELO</th>\n",
       "      <th>CAMBIO</th>\n",
       "      <th>CV</th>\n",
       "      <th>COMBUSTIBLE</th>\n",
       "      <th>PROVEEDOR</th>\n",
       "      <th>YEARS</th>\n",
       "      <th>PLAZAS</th>\n",
       "      <th>PCC</th>\n",
       "      <th>PVENTA</th>\n",
       "      <th>KM</th>\n",
       "      <th>tipo</th>\n",
       "      <th>llantas</th>\n",
       "      <th>year</th>\n",
       "      <th>CTE..PREPARACIÓN</th>\n",
       "      <th>GARANTIA2</th>\n",
       "    </tr>\n",
       "  </thead>\n",
       "  <tbody>\n",
       "    <tr>\n",
       "      <th>99</th>\n",
       "      <td>VOLKSWAGEN POLO</td>\n",
       "      <td>MANUAL</td>\n",
       "      <td>75</td>\n",
       "      <td>GASOLINA</td>\n",
       "      <td>MAVISA</td>\n",
       "      <td>12</td>\n",
       "      <td>5.0</td>\n",
       "      <td>1805.0</td>\n",
       "      <td>4500</td>\n",
       "      <td>91431</td>\n",
       "      <td>peq</td>\n",
       "      <td>si</td>\n",
       "      <td>2016</td>\n",
       "      <td>2089.46</td>\n",
       "      <td>si</td>\n",
       "    </tr>\n",
       "    <tr>\n",
       "      <th>100</th>\n",
       "      <td>OPEL INSIGNIA</td>\n",
       "      <td>MANUAL</td>\n",
       "      <td>130</td>\n",
       "      <td>DIESEL</td>\n",
       "      <td>ARVAL</td>\n",
       "      <td>4</td>\n",
       "      <td>5.0</td>\n",
       "      <td>10821.0</td>\n",
       "      <td>13300</td>\n",
       "      <td>74210</td>\n",
       "      <td>gra</td>\n",
       "      <td>si</td>\n",
       "      <td>2016</td>\n",
       "      <td>307.60</td>\n",
       "      <td>si</td>\n",
       "    </tr>\n",
       "    <tr>\n",
       "      <th>101</th>\n",
       "      <td>CITROEN C4</td>\n",
       "      <td>MANUAL</td>\n",
       "      <td>110</td>\n",
       "      <td>GASOLINA</td>\n",
       "      <td>AUTO1</td>\n",
       "      <td>10</td>\n",
       "      <td>5.0</td>\n",
       "      <td>2250.0</td>\n",
       "      <td>5300</td>\n",
       "      <td>82294</td>\n",
       "      <td>med</td>\n",
       "      <td>no</td>\n",
       "      <td>2016</td>\n",
       "      <td>986.07</td>\n",
       "      <td>si</td>\n",
       "    </tr>\n",
       "    <tr>\n",
       "      <th>102</th>\n",
       "      <td>AUDI A4</td>\n",
       "      <td>MANUAL</td>\n",
       "      <td>130</td>\n",
       "      <td>DIESEL</td>\n",
       "      <td>MUNDOMOVIL</td>\n",
       "      <td>12</td>\n",
       "      <td>5.0</td>\n",
       "      <td>4000.0</td>\n",
       "      <td>7500</td>\n",
       "      <td>184488</td>\n",
       "      <td>gra</td>\n",
       "      <td>si</td>\n",
       "      <td>2016</td>\n",
       "      <td>967.89</td>\n",
       "      <td>si</td>\n",
       "    </tr>\n",
       "    <tr>\n",
       "      <th>103</th>\n",
       "      <td>RENAULT TRAFIC</td>\n",
       "      <td>MANUAL</td>\n",
       "      <td>115</td>\n",
       "      <td>DIESEL</td>\n",
       "      <td>ARVAL</td>\n",
       "      <td>6</td>\n",
       "      <td>6.0</td>\n",
       "      <td>10900.0</td>\n",
       "      <td>13700</td>\n",
       "      <td>84172</td>\n",
       "      <td>fur</td>\n",
       "      <td>no</td>\n",
       "      <td>2016</td>\n",
       "      <td>821.60</td>\n",
       "      <td>si</td>\n",
       "    </tr>\n",
       "  </tbody>\n",
       "</table>\n",
       "</div>"
      ],
      "text/plain": [
       "        MARCA MODELO  CAMBIO   CV COMBUSTIBLE   PROVEEDOR  YEARS  PLAZAS  \\\n",
       "99   VOLKSWAGEN POLO  MANUAL   75    GASOLINA      MAVISA     12     5.0   \n",
       "100    OPEL INSIGNIA  MANUAL  130      DIESEL       ARVAL      4     5.0   \n",
       "101       CITROEN C4  MANUAL  110    GASOLINA       AUTO1     10     5.0   \n",
       "102          AUDI A4  MANUAL  130      DIESEL  MUNDOMOVIL     12     5.0   \n",
       "103   RENAULT TRAFIC  MANUAL  115      DIESEL       ARVAL      6     6.0   \n",
       "\n",
       "         PCC  PVENTA      KM tipo llantas  year  CTE..PREPARACIÓN GARANTIA2  \n",
       "99    1805.0    4500   91431  peq      si  2016           2089.46        si  \n",
       "100  10821.0   13300   74210  gra      si  2016            307.60        si  \n",
       "101   2250.0    5300   82294  med      no  2016            986.07        si  \n",
       "102   4000.0    7500  184488  gra      si  2016            967.89        si  \n",
       "103  10900.0   13700   84172  fur      no  2016            821.60        si  "
      ]
     },
     "execution_count": 15,
     "metadata": {},
     "output_type": "execute_result"
    }
   ],
   "source": [
    "predictors.head()"
   ]
  },
  {
   "cell_type": "code",
   "execution_count": 16,
   "metadata": {},
   "outputs": [
    {
     "data": {
      "text/plain": [
       "99     2.0\n",
       "100    1.0\n",
       "101    1.0\n",
       "102    1.0\n",
       "103    1.0\n",
       "Name: MESES, dtype: float64"
      ]
     },
     "execution_count": 16,
     "metadata": {},
     "output_type": "execute_result"
    }
   ],
   "source": [
    "target.head()"
   ]
  },
  {
   "cell_type": "code",
   "execution_count": 17,
   "metadata": {},
   "outputs": [],
   "source": [
    "predictors = pd.get_dummies(predictors, columns = [\"MARCA MODELO\"])\n",
    "predictors = pd.get_dummies(predictors, columns = [\"PROVEEDOR\"])\n",
    "predictors = pd.get_dummies(predictors, columns = [\"CAMBIO\"])\n",
    "predictors = pd.get_dummies(predictors, columns = [\"COMBUSTIBLE\"])\n",
    "predictors = pd.get_dummies(predictors, columns = [\"tipo\"])\n",
    "predictors = pd.get_dummies(predictors, columns = [\"llantas\"])\n",
    "predictors = pd.get_dummies(predictors, columns = [\"GARANTIA2\"])"
   ]
  },
  {
   "cell_type": "code",
   "execution_count": 18,
   "metadata": {},
   "outputs": [
    {
     "data": {
      "text/html": [
       "<div>\n",
       "<style scoped>\n",
       "    .dataframe tbody tr th:only-of-type {\n",
       "        vertical-align: middle;\n",
       "    }\n",
       "\n",
       "    .dataframe tbody tr th {\n",
       "        vertical-align: top;\n",
       "    }\n",
       "\n",
       "    .dataframe thead th {\n",
       "        text-align: right;\n",
       "    }\n",
       "</style>\n",
       "<table border=\"1\" class=\"dataframe\">\n",
       "  <thead>\n",
       "    <tr style=\"text-align: right;\">\n",
       "      <th></th>\n",
       "      <th>CV</th>\n",
       "      <th>YEARS</th>\n",
       "      <th>PLAZAS</th>\n",
       "      <th>PCC</th>\n",
       "      <th>PVENTA</th>\n",
       "      <th>KM</th>\n",
       "      <th>year</th>\n",
       "      <th>CTE..PREPARACIÓN</th>\n",
       "      <th>MARCA MODELO_AUDI A4</th>\n",
       "      <th>MARCA MODELO_AUDI A6</th>\n",
       "      <th>...</th>\n",
       "      <th>tipo_mon</th>\n",
       "      <th>tipo_monp</th>\n",
       "      <th>tipo_peq</th>\n",
       "      <th>tipo_pickup</th>\n",
       "      <th>tipo_sub</th>\n",
       "      <th>tipo_tt</th>\n",
       "      <th>llantas_no</th>\n",
       "      <th>llantas_si</th>\n",
       "      <th>GARANTIA2_no</th>\n",
       "      <th>GARANTIA2_si</th>\n",
       "    </tr>\n",
       "  </thead>\n",
       "  <tbody>\n",
       "    <tr>\n",
       "      <th>99</th>\n",
       "      <td>75</td>\n",
       "      <td>12</td>\n",
       "      <td>5.0</td>\n",
       "      <td>1805.0</td>\n",
       "      <td>4500</td>\n",
       "      <td>91431</td>\n",
       "      <td>2016</td>\n",
       "      <td>2089.46</td>\n",
       "      <td>0</td>\n",
       "      <td>0</td>\n",
       "      <td>...</td>\n",
       "      <td>0</td>\n",
       "      <td>0</td>\n",
       "      <td>1</td>\n",
       "      <td>0</td>\n",
       "      <td>0</td>\n",
       "      <td>0</td>\n",
       "      <td>0</td>\n",
       "      <td>1</td>\n",
       "      <td>0</td>\n",
       "      <td>1</td>\n",
       "    </tr>\n",
       "    <tr>\n",
       "      <th>100</th>\n",
       "      <td>130</td>\n",
       "      <td>4</td>\n",
       "      <td>5.0</td>\n",
       "      <td>10821.0</td>\n",
       "      <td>13300</td>\n",
       "      <td>74210</td>\n",
       "      <td>2016</td>\n",
       "      <td>307.60</td>\n",
       "      <td>0</td>\n",
       "      <td>0</td>\n",
       "      <td>...</td>\n",
       "      <td>0</td>\n",
       "      <td>0</td>\n",
       "      <td>0</td>\n",
       "      <td>0</td>\n",
       "      <td>0</td>\n",
       "      <td>0</td>\n",
       "      <td>0</td>\n",
       "      <td>1</td>\n",
       "      <td>0</td>\n",
       "      <td>1</td>\n",
       "    </tr>\n",
       "    <tr>\n",
       "      <th>101</th>\n",
       "      <td>110</td>\n",
       "      <td>10</td>\n",
       "      <td>5.0</td>\n",
       "      <td>2250.0</td>\n",
       "      <td>5300</td>\n",
       "      <td>82294</td>\n",
       "      <td>2016</td>\n",
       "      <td>986.07</td>\n",
       "      <td>0</td>\n",
       "      <td>0</td>\n",
       "      <td>...</td>\n",
       "      <td>0</td>\n",
       "      <td>0</td>\n",
       "      <td>0</td>\n",
       "      <td>0</td>\n",
       "      <td>0</td>\n",
       "      <td>0</td>\n",
       "      <td>1</td>\n",
       "      <td>0</td>\n",
       "      <td>0</td>\n",
       "      <td>1</td>\n",
       "    </tr>\n",
       "    <tr>\n",
       "      <th>102</th>\n",
       "      <td>130</td>\n",
       "      <td>12</td>\n",
       "      <td>5.0</td>\n",
       "      <td>4000.0</td>\n",
       "      <td>7500</td>\n",
       "      <td>184488</td>\n",
       "      <td>2016</td>\n",
       "      <td>967.89</td>\n",
       "      <td>1</td>\n",
       "      <td>0</td>\n",
       "      <td>...</td>\n",
       "      <td>0</td>\n",
       "      <td>0</td>\n",
       "      <td>0</td>\n",
       "      <td>0</td>\n",
       "      <td>0</td>\n",
       "      <td>0</td>\n",
       "      <td>0</td>\n",
       "      <td>1</td>\n",
       "      <td>0</td>\n",
       "      <td>1</td>\n",
       "    </tr>\n",
       "    <tr>\n",
       "      <th>103</th>\n",
       "      <td>115</td>\n",
       "      <td>6</td>\n",
       "      <td>6.0</td>\n",
       "      <td>10900.0</td>\n",
       "      <td>13700</td>\n",
       "      <td>84172</td>\n",
       "      <td>2016</td>\n",
       "      <td>821.60</td>\n",
       "      <td>0</td>\n",
       "      <td>0</td>\n",
       "      <td>...</td>\n",
       "      <td>0</td>\n",
       "      <td>0</td>\n",
       "      <td>0</td>\n",
       "      <td>0</td>\n",
       "      <td>0</td>\n",
       "      <td>0</td>\n",
       "      <td>1</td>\n",
       "      <td>0</td>\n",
       "      <td>0</td>\n",
       "      <td>1</td>\n",
       "    </tr>\n",
       "  </tbody>\n",
       "</table>\n",
       "<p>5 rows × 128 columns</p>\n",
       "</div>"
      ],
      "text/plain": [
       "      CV  YEARS  PLAZAS      PCC  PVENTA      KM  year  CTE..PREPARACIÓN  \\\n",
       "99    75     12     5.0   1805.0    4500   91431  2016           2089.46   \n",
       "100  130      4     5.0  10821.0   13300   74210  2016            307.60   \n",
       "101  110     10     5.0   2250.0    5300   82294  2016            986.07   \n",
       "102  130     12     5.0   4000.0    7500  184488  2016            967.89   \n",
       "103  115      6     6.0  10900.0   13700   84172  2016            821.60   \n",
       "\n",
       "     MARCA MODELO_AUDI A4  MARCA MODELO_AUDI A6  ...  tipo_mon  tipo_monp  \\\n",
       "99                      0                     0  ...         0          0   \n",
       "100                     0                     0  ...         0          0   \n",
       "101                     0                     0  ...         0          0   \n",
       "102                     1                     0  ...         0          0   \n",
       "103                     0                     0  ...         0          0   \n",
       "\n",
       "     tipo_peq  tipo_pickup  tipo_sub  tipo_tt  llantas_no  llantas_si  \\\n",
       "99          1            0         0        0           0           1   \n",
       "100         0            0         0        0           0           1   \n",
       "101         0            0         0        0           1           0   \n",
       "102         0            0         0        0           0           1   \n",
       "103         0            0         0        0           1           0   \n",
       "\n",
       "     GARANTIA2_no  GARANTIA2_si  \n",
       "99              0             1  \n",
       "100             0             1  \n",
       "101             0             1  \n",
       "102             0             1  \n",
       "103             0             1  \n",
       "\n",
       "[5 rows x 128 columns]"
      ]
     },
     "execution_count": 18,
     "metadata": {},
     "output_type": "execute_result"
    }
   ],
   "source": [
    "#Feature selection\n",
    "#Lets defind feature sets, X:\n",
    "\n",
    "\n",
    "x = predictors\n",
    "x[0:5]\n"
   ]
  },
  {
   "cell_type": "code",
   "execution_count": 19,
   "metadata": {},
   "outputs": [
    {
     "data": {
      "text/plain": [
       "99     2.0\n",
       "100    1.0\n",
       "101    1.0\n",
       "102    1.0\n",
       "103    1.0\n",
       "      ... \n",
       "388    2.0\n",
       "389    1.0\n",
       "390    2.0\n",
       "391    2.0\n",
       "392    2.0\n",
       "Name: MESES, Length: 294, dtype: float64"
      ]
     },
     "execution_count": 19,
     "metadata": {},
     "output_type": "execute_result"
    }
   ],
   "source": [
    "\n",
    "#What are our lables? \n",
    "\n",
    "\n",
    "y = target\n",
    "y"
   ]
  },
  {
   "cell_type": "code",
   "execution_count": 20,
   "metadata": {},
   "outputs": [
    {
     "data": {
      "text/plain": [
       "array([[-1.34941905,  0.93322851, -0.26270647, -1.11555587, -1.07559348,\n",
       "         0.01416573, -0.54521739,  2.05336808, -0.1672484 , -0.08276059,\n",
       "        -0.10153462, -0.05842062, -0.05842062, -0.14433757, -0.20628425,\n",
       "        -0.11744404, -0.05842062, -0.13153341, -0.05842062, -0.08276059,\n",
       "        -0.05842062, -0.05842062, -0.05842062, -0.05842062, -0.10153462,\n",
       "        -0.13153341, -0.2236068 , -0.05842062, -0.05842062, -0.11744404,\n",
       "        -0.05842062, -0.05842062, -0.05842062, -0.08276059, -0.05842062,\n",
       "        -0.05842062, -0.08276059, -0.05842062, -0.05842062, -0.05842062,\n",
       "        -0.11744404, -0.05842062, -0.15617376, -0.05842062, -0.32444284,\n",
       "        -0.08276059, -0.11744404, -0.25537696, -0.17770466, -0.05842062,\n",
       "        -0.11744404, -0.19715288, -0.08276059, -0.05842062, -0.05842062,\n",
       "        -0.05842062, -0.08276059, -0.05842062, -0.05842062, -0.05842062,\n",
       "        -0.14433757, -0.05842062, -0.08276059, -0.10153462, -0.11744404,\n",
       "        -0.13153341, -0.20628425, -0.08276059, -0.05842062, -0.08276059,\n",
       "        -0.23186945, -0.11744404, -0.05842062, -0.08276059, -0.05842062,\n",
       "        -0.05842062, -0.05842062, -0.10153462, -0.13153341, -0.10153462,\n",
       "        -0.13153341, -0.1672484 , -0.13153341,  5.97913037, -0.10153462,\n",
       "        -0.05842062, -0.1672484 , -0.10153462, -0.05842062, -0.1672484 ,\n",
       "        -0.05842062, -0.08276059, -0.77319214, -0.05842062, -0.05842062,\n",
       "        -0.10153462, -0.08276059, -0.08276059, -0.08276059, -0.05842062,\n",
       "        -0.08276059, -0.18764666,  3.28024389, -0.42511515, -0.25537696,\n",
       "        -0.11744404, -0.40256097, -0.05842062, -0.10153462, -0.24773341,\n",
       "         0.24773341, -1.04880885,  1.10023921, -0.05842062, -0.14433757,\n",
       "        -0.17770466, -0.45812285, -0.61666984, -0.45267873, -0.10153462,\n",
       "         1.60790729, -0.05842062, -0.20628425, -0.13153341, -0.479714  ,\n",
       "         0.479714  , -0.34332306,  0.34332306],\n",
       "       [ 0.83565065, -1.63096945, -0.26270647,  2.11219616,  1.98028255,\n",
       "        -0.33662407, -0.54521739, -1.04028863, -0.1672484 , -0.08276059,\n",
       "        -0.10153462, -0.05842062, -0.05842062, -0.14433757, -0.20628425,\n",
       "        -0.11744404, -0.05842062, -0.13153341, -0.05842062, -0.08276059,\n",
       "        -0.05842062, -0.05842062, -0.05842062, -0.05842062, -0.10153462,\n",
       "        -0.13153341, -0.2236068 , -0.05842062, -0.05842062, -0.11744404,\n",
       "        -0.05842062, -0.05842062, -0.05842062, -0.08276059, -0.05842062,\n",
       "        -0.05842062, -0.08276059, -0.05842062, -0.05842062, -0.05842062,\n",
       "        -0.11744404, -0.05842062, -0.15617376, -0.05842062, -0.32444284,\n",
       "        -0.08276059, -0.11744404, -0.25537696,  5.62731434, -0.05842062,\n",
       "        -0.11744404, -0.19715288, -0.08276059, -0.05842062, -0.05842062,\n",
       "        -0.05842062, -0.08276059, -0.05842062, -0.05842062, -0.05842062,\n",
       "        -0.14433757, -0.05842062, -0.08276059, -0.10153462, -0.11744404,\n",
       "        -0.13153341, -0.20628425, -0.08276059, -0.05842062, -0.08276059,\n",
       "        -0.23186945, -0.11744404, -0.05842062, -0.08276059, -0.05842062,\n",
       "        -0.05842062, -0.05842062, -0.10153462, -0.13153341, -0.10153462,\n",
       "        -0.13153341, -0.1672484 , -0.13153341, -0.1672484 , -0.10153462,\n",
       "        -0.05842062, -0.1672484 , -0.10153462, -0.05842062,  5.97913037,\n",
       "        -0.05842062, -0.08276059, -0.77319214, -0.05842062, -0.05842062,\n",
       "        -0.10153462, -0.08276059, -0.08276059, -0.08276059, -0.05842062,\n",
       "        -0.08276059, -0.18764666, -0.30485538, -0.42511515, -0.25537696,\n",
       "        -0.11744404, -0.40256097, -0.05842062, -0.10153462, -0.24773341,\n",
       "         0.24773341,  0.95346259, -0.90889326, -0.05842062, -0.14433757,\n",
       "        -0.17770466,  2.18282063, -0.61666984, -0.45267873, -0.10153462,\n",
       "        -0.6219264 , -0.05842062, -0.20628425, -0.13153341, -0.479714  ,\n",
       "         0.479714  , -0.34332306,  0.34332306],\n",
       "       [ 0.04107985,  0.29217902, -0.26270647, -0.95624469, -0.79778656,\n",
       "        -0.17195392, -0.54521739,  0.1376677 , -0.1672484 , -0.08276059,\n",
       "        -0.10153462, -0.05842062, -0.05842062, -0.14433757,  4.84767986,\n",
       "        -0.11744404, -0.05842062, -0.13153341, -0.05842062, -0.08276059,\n",
       "        -0.05842062, -0.05842062, -0.05842062, -0.05842062, -0.10153462,\n",
       "        -0.13153341, -0.2236068 , -0.05842062, -0.05842062, -0.11744404,\n",
       "        -0.05842062, -0.05842062, -0.05842062, -0.08276059, -0.05842062,\n",
       "        -0.05842062, -0.08276059, -0.05842062, -0.05842062, -0.05842062,\n",
       "        -0.11744404, -0.05842062, -0.15617376, -0.05842062, -0.32444284,\n",
       "        -0.08276059, -0.11744404, -0.25537696, -0.17770466, -0.05842062,\n",
       "        -0.11744404, -0.19715288, -0.08276059, -0.05842062, -0.05842062,\n",
       "        -0.05842062, -0.08276059, -0.05842062, -0.05842062, -0.05842062,\n",
       "        -0.14433757, -0.05842062, -0.08276059, -0.10153462, -0.11744404,\n",
       "        -0.13153341, -0.20628425, -0.08276059, -0.05842062, -0.08276059,\n",
       "        -0.23186945, -0.11744404, -0.05842062, -0.08276059, -0.05842062,\n",
       "        -0.05842062, -0.05842062, -0.10153462, -0.13153341, -0.10153462,\n",
       "        -0.13153341, -0.1672484 , -0.13153341, -0.1672484 , -0.10153462,\n",
       "        -0.05842062, -0.1672484 , -0.10153462, -0.05842062, -0.1672484 ,\n",
       "        -0.05842062, -0.08276059,  1.29333958, -0.05842062, -0.05842062,\n",
       "        -0.10153462, -0.08276059, -0.08276059, -0.08276059, -0.05842062,\n",
       "        -0.08276059, -0.18764666, -0.30485538, -0.42511515, -0.25537696,\n",
       "        -0.11744404, -0.40256097, -0.05842062, -0.10153462, -0.24773341,\n",
       "         0.24773341, -1.04880885,  1.10023921, -0.05842062, -0.14433757,\n",
       "        -0.17770466, -0.45812285,  1.62161328, -0.45267873, -0.10153462,\n",
       "        -0.6219264 , -0.05842062, -0.20628425, -0.13153341,  2.08457539,\n",
       "        -2.08457539, -0.34332306,  0.34332306],\n",
       "       [ 0.83565065,  0.93322851, -0.26270647, -0.32974002, -0.03381756,\n",
       "         1.90972619, -0.54521739,  0.10610367,  5.97913037, -0.08276059,\n",
       "        -0.10153462, -0.05842062, -0.05842062, -0.14433757, -0.20628425,\n",
       "        -0.11744404, -0.05842062, -0.13153341, -0.05842062, -0.08276059,\n",
       "        -0.05842062, -0.05842062, -0.05842062, -0.05842062, -0.10153462,\n",
       "        -0.13153341, -0.2236068 , -0.05842062, -0.05842062, -0.11744404,\n",
       "        -0.05842062, -0.05842062, -0.05842062, -0.08276059, -0.05842062,\n",
       "        -0.05842062, -0.08276059, -0.05842062, -0.05842062, -0.05842062,\n",
       "        -0.11744404, -0.05842062, -0.15617376, -0.05842062, -0.32444284,\n",
       "        -0.08276059, -0.11744404, -0.25537696, -0.17770466, -0.05842062,\n",
       "        -0.11744404, -0.19715288, -0.08276059, -0.05842062, -0.05842062,\n",
       "        -0.05842062, -0.08276059, -0.05842062, -0.05842062, -0.05842062,\n",
       "        -0.14433757, -0.05842062, -0.08276059, -0.10153462, -0.11744404,\n",
       "        -0.13153341, -0.20628425, -0.08276059, -0.05842062, -0.08276059,\n",
       "        -0.23186945, -0.11744404, -0.05842062, -0.08276059, -0.05842062,\n",
       "        -0.05842062, -0.05842062, -0.10153462, -0.13153341, -0.10153462,\n",
       "        -0.13153341, -0.1672484 , -0.13153341, -0.1672484 , -0.10153462,\n",
       "        -0.05842062, -0.1672484 , -0.10153462, -0.05842062, -0.1672484 ,\n",
       "        -0.05842062, -0.08276059, -0.77319214, -0.05842062, -0.05842062,\n",
       "        -0.10153462, -0.08276059, -0.08276059, -0.08276059, -0.05842062,\n",
       "        -0.08276059, -0.18764666, -0.30485538,  2.35230384, -0.25537696,\n",
       "        -0.11744404, -0.40256097, -0.05842062, -0.10153462, -0.24773341,\n",
       "         0.24773341,  0.95346259, -0.90889326, -0.05842062, -0.14433757,\n",
       "        -0.17770466,  2.18282063, -0.61666984, -0.45267873, -0.10153462,\n",
       "        -0.6219264 , -0.05842062, -0.20628425, -0.13153341, -0.479714  ,\n",
       "         0.479714  , -0.34332306,  0.34332306],\n",
       "       [ 0.23972255, -0.98991996,  1.49265037,  2.14047837,  2.11918601,\n",
       "        -0.13369927, -0.54521739, -0.14788432, -0.1672484 , -0.08276059,\n",
       "        -0.10153462, -0.05842062, -0.05842062, -0.14433757, -0.20628425,\n",
       "        -0.11744404, -0.05842062, -0.13153341, -0.05842062, -0.08276059,\n",
       "        -0.05842062, -0.05842062, -0.05842062, -0.05842062, -0.10153462,\n",
       "        -0.13153341, -0.2236068 , -0.05842062, -0.05842062, -0.11744404,\n",
       "        -0.05842062, -0.05842062, -0.05842062, -0.08276059, -0.05842062,\n",
       "        -0.05842062, -0.08276059, -0.05842062, -0.05842062, -0.05842062,\n",
       "        -0.11744404, -0.05842062, -0.15617376, -0.05842062, -0.32444284,\n",
       "        -0.08276059, -0.11744404, -0.25537696, -0.17770466, -0.05842062,\n",
       "        -0.11744404, -0.19715288, -0.08276059, -0.05842062, -0.05842062,\n",
       "        -0.05842062, -0.08276059, -0.05842062, -0.05842062, -0.05842062,\n",
       "        -0.14433757, -0.05842062, -0.08276059, -0.10153462, -0.11744404,\n",
       "        -0.13153341, -0.20628425, 12.08304597, -0.05842062, -0.08276059,\n",
       "        -0.23186945, -0.11744404, -0.05842062, -0.08276059, -0.05842062,\n",
       "        -0.05842062, -0.05842062, -0.10153462, -0.13153341, -0.10153462,\n",
       "        -0.13153341, -0.1672484 , -0.13153341, -0.1672484 , -0.10153462,\n",
       "        -0.05842062, -0.1672484 , -0.10153462, -0.05842062,  5.97913037,\n",
       "        -0.05842062, -0.08276059, -0.77319214, -0.05842062, -0.05842062,\n",
       "        -0.10153462, -0.08276059, -0.08276059, -0.08276059, -0.05842062,\n",
       "        -0.08276059, -0.18764666, -0.30485538, -0.42511515, -0.25537696,\n",
       "        -0.11744404, -0.40256097, -0.05842062, -0.10153462, -0.24773341,\n",
       "         0.24773341,  0.95346259, -0.90889326, -0.05842062, -0.14433757,\n",
       "         5.62731434, -0.45812285, -0.61666984, -0.45267873, -0.10153462,\n",
       "        -0.6219264 , -0.05842062, -0.20628425, -0.13153341,  2.08457539,\n",
       "        -2.08457539, -0.34332306,  0.34332306]])"
      ]
     },
     "execution_count": 20,
     "metadata": {},
     "output_type": "execute_result"
    }
   ],
   "source": [
    "X = preprocessing.StandardScaler().fit(x).transform(x.astype(float))\n",
    "X[0:5]"
   ]
  },
  {
   "cell_type": "code",
   "execution_count": 21,
   "metadata": {},
   "outputs": [
    {
     "name": "stdout",
     "output_type": "stream",
     "text": [
      "Train set: (235, 128) (235,)\n",
      "Test set: (59, 128) (59,)\n"
     ]
    }
   ],
   "source": [
    "from sklearn.model_selection import train_test_split\n",
    "X_train, X_test, y_train, y_test = train_test_split( X, y, test_size=0.2, random_state=4)\n",
    "print ('Train set:', X_train.shape,  y_train.shape)\n",
    "print ('Test set:', X_test.shape,  y_test.shape)"
   ]
  },
  {
   "cell_type": "code",
   "execution_count": 22,
   "metadata": {},
   "outputs": [],
   "source": [
    "#Import library\n",
    "#Classifier implementing the k-nearest neighbors\n",
    "from sklearn.neighbors import KNeighborsClassifier\n",
    "from sklearn import metrics"
   ]
  },
  {
   "cell_type": "code",
   "execution_count": 23,
   "metadata": {},
   "outputs": [
    {
     "data": {
      "text/plain": [
       "array([0.52542373, 0.61016949, 0.52542373, 0.6440678 , 0.55932203,\n",
       "       0.62711864, 0.59322034, 0.66101695, 0.61016949, 0.6779661 ,\n",
       "       0.6779661 , 0.69491525, 0.69491525, 0.72881356, 0.6779661 ,\n",
       "       0.69491525, 0.71186441, 0.71186441, 0.69491525])"
      ]
     },
     "execution_count": 23,
     "metadata": {},
     "output_type": "execute_result"
    }
   ],
   "source": [
    "Ks = 20\n",
    "mean_acc = np.zeros((Ks-1))\n",
    "std_acc = np.zeros((Ks-1))\n",
    "ConfustionMx = [];\n",
    "for n in range(1,Ks):\n",
    "    \n",
    "    #Train Model and Predict  \n",
    "    neigh = KNeighborsClassifier(n_neighbors = n).fit(X_train,y_train)\n",
    "    yhat=neigh.predict(X_test)\n",
    "    mean_acc[n-1] = metrics.accuracy_score(y_test, yhat)\n",
    "\n",
    "    \n",
    "    std_acc[n-1]=np.std(yhat==y_test)/np.sqrt(yhat.shape[0])\n",
    "\n",
    "mean_acc"
   ]
  },
  {
   "cell_type": "code",
   "execution_count": 24,
   "metadata": {},
   "outputs": [
    {
     "data": {
      "image/png": "[encoded data removed]",
      "text/plain": [
       "<Figure size 432x288 with 1 Axes>"
      ]
     },
     "metadata": {
      "needs_background": "light"
     },
     "output_type": "display_data"
    }
   ],
   "source": [
    "#Plot model accuracy for Different number of Neighbors\n",
    "plt.plot(range(1,Ks),mean_acc,'g')\n",
    "plt.fill_between(range(1,Ks),mean_acc - 1 * std_acc,mean_acc + 1 * std_acc, alpha=0.10)\n",
    "plt.legend(('Accuracy ', '+/- 3xstd'))\n",
    "plt.ylabel('Accuracy ')\n",
    "plt.xlabel('Number of Nabors (K)')\n",
    "plt.tight_layout()\n",
    "plt.show()"
   ]
  },
  {
   "cell_type": "code",
   "execution_count": 25,
   "metadata": {},
   "outputs": [
    {
     "name": "stdout",
     "output_type": "stream",
     "text": [
      "The best accuracy was with 0.7288135593220338 with k= 14\n"
     ]
    }
   ],
   "source": [
    "print( \"The best accuracy was with\", mean_acc.max(), \"with k=\", mean_acc.argmax()+1) "
   ]
  },
  {
   "cell_type": "code",
   "execution_count": 26,
   "metadata": {},
   "outputs": [],
   "source": [
    "#Setting up the Decision Tree\n",
    "from sklearn.tree import DecisionTreeClassifier\n",
    "X_trainset, X_testset, y_trainset, y_testset = train_test_split(X, y, test_size=0.3, random_state=3)\n",
    "predbecars = DecisionTreeClassifier(criterion=\"entropy\", max_depth = 4)"
   ]
  },
  {
   "cell_type": "code",
   "execution_count": 27,
   "metadata": {},
   "outputs": [
    {
     "data": {
      "text/plain": [
       "DecisionTreeClassifier(criterion='entropy', max_depth=4)"
      ]
     },
     "execution_count": 27,
     "metadata": {},
     "output_type": "execute_result"
    }
   ],
   "source": [
    "predbecars # it shows the default parameters"
   ]
  },
  {
   "cell_type": "code",
   "execution_count": 28,
   "metadata": {},
   "outputs": [
    {
     "data": {
      "text/plain": [
       "DecisionTreeClassifier(criterion='entropy', max_depth=4)"
      ]
     },
     "execution_count": 28,
     "metadata": {},
     "output_type": "execute_result"
    }
   ],
   "source": [
    "predbecars.fit(X_trainset,y_trainset)"
   ]
  },
  {
   "cell_type": "code",
   "execution_count": 29,
   "metadata": {},
   "outputs": [],
   "source": [
    "predbecars = predbecars.predict(X_testset)"
   ]
  },
  {
   "cell_type": "code",
   "execution_count": 30,
   "metadata": {},
   "outputs": [
    {
     "name": "stdout",
     "output_type": "stream",
     "text": [
      "[2. 1. 2. 2. 1.]\n",
      "250    2.0\n",
      "379    2.0\n",
      "200    1.0\n",
      "361    2.0\n",
      "115    2.0\n",
      "Name: MESES, dtype: float64\n"
     ]
    }
   ],
   "source": [
    "print (predbecars [0:5])\n",
    "print (y_testset [0:5])"
   ]
  },
  {
   "cell_type": "code",
   "execution_count": 31,
   "metadata": {},
   "outputs": [
    {
     "name": "stdout",
     "output_type": "stream",
     "text": [
      "DecisionTrees's Accuracy:  0.6179775280898876\n"
     ]
    }
   ],
   "source": [
    "from sklearn import metrics\n",
    "import matplotlib.pyplot as plt\n",
    "print(\"DecisionTrees's Accuracy: \", metrics.accuracy_score(y_testset, predbecars))"
   ]
  },
  {
   "cell_type": "code",
   "execution_count": 32,
   "metadata": {},
   "outputs": [
    {
     "data": {
      "text/plain": [
       "LogisticRegression(C=0.01, solver='liblinear')"
      ]
     },
     "execution_count": 32,
     "metadata": {},
     "output_type": "execute_result"
    }
   ],
   "source": [
    "#Modeling (Logistic Regression with Scikit-learn)\n",
    "#import logistic regression and use liblinear numerical optimizer t find parameters\n",
    "#use a C parameter of 0.01\n",
    "from sklearn.linear_model import LogisticRegression\n",
    "from sklearn.metrics import confusion_matrix\n",
    "LR=LogisticRegression(C=0.01, solver='liblinear').fit(X_train,y_train)\n",
    "LR"
   ]
  },
  {
   "cell_type": "code",
   "execution_count": 33,
   "metadata": {},
   "outputs": [
    {
     "data": {
      "text/plain": [
       "array([1., 1., 2., 1., 1., 1., 1., 2., 1., 1., 1., 1., 1., 1., 1., 2., 1.,\n",
       "       2., 1., 1., 1., 1., 2., 1., 2., 1., 2., 1., 1., 1., 1., 2., 2., 2.,\n",
       "       1., 2., 2., 1., 1., 2., 1., 1., 1., 1., 1., 2., 1., 2., 1., 2., 1.,\n",
       "       2., 2., 2., 2., 1., 1., 1., 1.])"
      ]
     },
     "execution_count": 33,
     "metadata": {},
     "output_type": "execute_result"
    }
   ],
   "source": [
    "#Now we can predict using our test set:\n",
    "yhat = LR.predict(X_test)\n",
    "yhat\n"
   ]
  },
  {
   "cell_type": "code",
   "execution_count": 34,
   "metadata": {},
   "outputs": [
    {
     "data": {
      "text/plain": [
       "array([[0.68930765, 0.31069235],\n",
       "       [0.60282845, 0.39717155],\n",
       "       [0.31318383, 0.68681617],\n",
       "       [0.68414771, 0.31585229],\n",
       "       [0.55173445, 0.44826555],\n",
       "       [0.55400332, 0.44599668],\n",
       "       [0.6300514 , 0.3699486 ],\n",
       "       [0.35732167, 0.64267833],\n",
       "       [0.51824165, 0.48175835],\n",
       "       [0.5387025 , 0.4612975 ],\n",
       "       [0.55914332, 0.44085668],\n",
       "       [0.60563311, 0.39436689],\n",
       "       [0.57220757, 0.42779243],\n",
       "       [0.55483765, 0.44516235],\n",
       "       [0.58202436, 0.41797564],\n",
       "       [0.49042556, 0.50957444],\n",
       "       [0.54116716, 0.45883284],\n",
       "       [0.3706948 , 0.6293052 ],\n",
       "       [0.70753279, 0.29246721],\n",
       "       [0.50010029, 0.49989971],\n",
       "       [0.50750191, 0.49249809],\n",
       "       [0.64244523, 0.35755477],\n",
       "       [0.43006038, 0.56993962],\n",
       "       [0.60561489, 0.39438511],\n",
       "       [0.4751643 , 0.5248357 ],\n",
       "       [0.52238396, 0.47761604],\n",
       "       [0.38887617, 0.61112383],\n",
       "       [0.63697391, 0.36302609],\n",
       "       [0.54639848, 0.45360152],\n",
       "       [0.50622187, 0.49377813],\n",
       "       [0.64452235, 0.35547765],\n",
       "       [0.29554165, 0.70445835],\n",
       "       [0.44513727, 0.55486273],\n",
       "       [0.39289976, 0.60710024],\n",
       "       [0.55061095, 0.44938905],\n",
       "       [0.41151567, 0.58848433],\n",
       "       [0.36914011, 0.63085989],\n",
       "       [0.77222916, 0.22777084],\n",
       "       [0.63182693, 0.36817307],\n",
       "       [0.49667104, 0.50332896],\n",
       "       [0.60149642, 0.39850358],\n",
       "       [0.51136854, 0.48863146],\n",
       "       [0.55523854, 0.44476146],\n",
       "       [0.57424444, 0.42575556],\n",
       "       [0.58586043, 0.41413957],\n",
       "       [0.46751268, 0.53248732],\n",
       "       [0.52406266, 0.47593734],\n",
       "       [0.40898798, 0.59101202],\n",
       "       [0.54989191, 0.45010809],\n",
       "       [0.30398198, 0.69601802],\n",
       "       [0.56892145, 0.43107855],\n",
       "       [0.40970808, 0.59029192],\n",
       "       [0.49172281, 0.50827719],\n",
       "       [0.39188573, 0.60811427],\n",
       "       [0.40103002, 0.59896998],\n",
       "       [0.52316638, 0.47683362],\n",
       "       [0.64503595, 0.35496405],\n",
       "       [0.71361473, 0.28638527],\n",
       "       [0.60936921, 0.39063079]])"
      ]
     },
     "execution_count": 34,
     "metadata": {},
     "output_type": "execute_result"
    }
   ],
   "source": [
    "#predict_proba returns estimates for all classes, ordered by the label of classes. So, the first column is the probability of \n",
    "#class 1, P(Y=1|X), and second column is probability of class 2, P(Y=2|X):\n",
    "yhat_prob = LR.predict_proba(X_test)\n",
    "yhat_prob"
   ]
  },
  {
   "cell_type": "code",
   "execution_count": 35,
   "metadata": {},
   "outputs": [
    {
     "data": {
      "text/plain": [
       "0.6"
      ]
     },
     "execution_count": 35,
     "metadata": {},
     "output_type": "execute_result"
    }
   ],
   "source": [
    "from sklearn.metrics import jaccard_score\n",
    "jaccard_score(y_test,yhat)"
   ]
  },
  {
   "cell_type": "code",
   "execution_count": 36,
   "metadata": {},
   "outputs": [
    {
     "name": "stdout",
     "output_type": "stream",
     "text": [
      "[[30 11]\n",
      " [ 9  9]]\n"
     ]
    }
   ],
   "source": [
    " # Another way of looking to accuracy of the classifier is to look at confusion matrix.\n",
    "from sklearn.metrics import classification_report, confusion_matrix\n",
    "import itertools\n",
    "def plot_confusion_matrix(cm, classes,\n",
    "                          normalize=False,\n",
    "                          title='Confusion matrix',\n",
    "                          cmap=plt.cm.Blues):\n",
    "    \"\"\"\n",
    "    This function prints and plots the confusion matrix.\n",
    "    Normalization can be applied by setting `normalize=True`.\n",
    "    \"\"\"\n",
    "    if normalize:\n",
    "        cm = cm.astype('float') / cm.sum(axis=1)[:, np.newaxis]\n",
    "        print(\"Normalized confusion matrix\")\n",
    "    else:\n",
    "        print('Confusion matrix, without normalization')\n",
    "\n",
    "    print(cm)\n",
    "\n",
    "    plt.imshow(cm, interpolation='nearest', cmap=cmap)\n",
    "    plt.title(title)\n",
    "    plt.colorbar()\n",
    "    tick_marks = np.arange(len(classes))\n",
    "    plt.xticks(tick_marks, classes, rotation=45)\n",
    "    plt.yticks(tick_marks, classes)\n",
    "\n",
    "    fmt = '.2f' if normalize else 'd'\n",
    "    thresh = cm.max() / 2.\n",
    "    for i, j in itertools.product(range(cm.shape[0]), range(cm.shape[1])):\n",
    "        plt.text(j, i, format(cm[i, j], fmt),\n",
    "                 horizontalalignment=\"center\",\n",
    "                 color=\"white\" if cm[i, j] > thresh else \"black\")\n",
    "\n",
    "    plt.tight_layout()\n",
    "    plt.ylabel('True label')\n",
    "    plt.xlabel('Predicted label')\n",
    "print(confusion_matrix(y_test, yhat, labels=[1,2]))"
   ]
  },
  {
   "cell_type": "code",
   "execution_count": 37,
   "metadata": {},
   "outputs": [
    {
     "name": "stdout",
     "output_type": "stream",
     "text": [
      "Confusion matrix, without normalization\n",
      "[[30 11]\n",
      " [ 9  9]]\n"
     ]
    },
    {
     "data": {
      "image/png": "[encoded data removed]",
      "text/plain": [
       "<Figure size 432x288 with 2 Axes>"
      ]
     },
     "metadata": {
      "needs_background": "light"
     },
     "output_type": "display_data"
    }
   ],
   "source": [
    "# Compute confusion matrix\n",
    "cnf_matrix = confusion_matrix(y_test, yhat, labels=[1,2])\n",
    "np.set_printoptions(precision=2)\n",
    "\n",
    "\n",
    "# Plot non-normalized confusion matrix\n",
    "plt.figure()\n",
    "plot_confusion_matrix(cnf_matrix, classes=['churn=1','churn=2'],normalize= False,  title='Confusion matrix')"
   ]
  },
  {
   "cell_type": "code",
   "execution_count": 38,
   "metadata": {},
   "outputs": [],
   "source": [
    "#For 30 customers, the actual churn value were 1 in test set, and classifier also correctly predicted those as 1, and 11 as 2 \n",
    "#which is a good 73%.\n",
    "#The classifier correctly predicted 9 of them as 2, and 9 of them wrongly as 1. So, it has done a  50% in predicting the\n",
    "#customers with churn value 2. "
   ]
  },
  {
   "cell_type": "code",
   "execution_count": 39,
   "metadata": {},
   "outputs": [
    {
     "name": "stdout",
     "output_type": "stream",
     "text": [
      "              precision    recall  f1-score   support\n",
      "\n",
      "         1.0       0.77      0.73      0.75        41\n",
      "         2.0       0.45      0.50      0.47        18\n",
      "\n",
      "    accuracy                           0.66        59\n",
      "   macro avg       0.61      0.62      0.61        59\n",
      "weighted avg       0.67      0.66      0.67        59\n",
      "\n"
     ]
    }
   ],
   "source": [
    "print (classification_report(y_test, yhat))"
   ]
  },
  {
   "cell_type": "code",
   "execution_count": 40,
   "metadata": {},
   "outputs": [
    {
     "data": {
      "text/plain": [
       "0.6909445528587216"
      ]
     },
     "execution_count": 40,
     "metadata": {},
     "output_type": "execute_result"
    }
   ],
   "source": [
    "#Finally, we can tell the average accuracy for this classifier is the weighted avg of the F1-score for both labels, which is \n",
    "# 0.67 in our case.\n",
    "from sklearn.metrics import log_loss\n",
    "log_loss(y_test, yhat_prob)"
   ]
  },
  {
   "cell_type": "code",
   "execution_count": 41,
   "metadata": {},
   "outputs": [
    {
     "name": "stdout",
     "output_type": "stream",
     "text": [
      "LogLoss: : 0.63\n"
     ]
    }
   ],
   "source": [
    "# We build a new Logistic Regression model again for the same dataset, but this time, using different solver\n",
    "LR2 = LogisticRegression(C=0.01, solver='sag').fit(X_train,y_train)\n",
    "yhat_prob2 = LR2.predict_proba(X_test)\n",
    "print(\"LogLoss: : %.2f\" % log_loss(y_test, yhat_prob2))"
   ]
  },
  {
   "cell_type": "code",
   "execution_count": 42,
   "metadata": {},
   "outputs": [
    {
     "data": {
      "image/png": "[encoded data removed]",
      "text/plain": [
       "<Figure size 432x288 with 1 Axes>"
      ]
     },
     "metadata": {
      "needs_background": "light"
     },
     "output_type": "display_data"
    }
   ],
   "source": [
    "#Modeling (SVM with Scikit-learn)\n",
    "\n",
    "#Lets look at the distribution of the classes based on KM (kilometers) and CTE..PREPARACIÓN:\n",
    "ax = df[df['MESES'] == 1][0:100].plot(kind='scatter', x='KM', y='CTE..PREPARACIÓN', color='DarkBlue', label='GOOD');\n",
    "df[df['MESES'] == 2][0:100].plot(kind='scatter', x='KM', y='CTE..PREPARACIÓN', color='Yellow', label='BAD', ax=ax);\n",
    "plt.show()\n"
   ]
  },
  {
   "cell_type": "code",
   "execution_count": 43,
   "metadata": {},
   "outputs": [
    {
     "data": {
      "text/plain": [
       "SVC()"
      ]
     },
     "execution_count": 43,
     "metadata": {},
     "output_type": "execute_result"
    }
   ],
   "source": [
    "from sklearn import svm\n",
    "clf = svm.SVC(kernel='rbf')\n",
    "clf.fit(X_train, y_train) "
   ]
  },
  {
   "cell_type": "code",
   "execution_count": 44,
   "metadata": {},
   "outputs": [
    {
     "data": {
      "text/plain": [
       "array([1., 1., 2., 1., 1.])"
      ]
     },
     "execution_count": 44,
     "metadata": {},
     "output_type": "execute_result"
    }
   ],
   "source": [
    "yhat = clf.predict(X_test)\n",
    "yhat [0:5]"
   ]
  },
  {
   "cell_type": "code",
   "execution_count": 45,
   "metadata": {},
   "outputs": [],
   "source": [
    "# Evaluation\n",
    "from sklearn.metrics import classification_report, confusion_matrix\n",
    "import itertools"
   ]
  },
  {
   "cell_type": "code",
   "execution_count": 46,
   "metadata": {},
   "outputs": [],
   "source": [
    "def plot_confusion_matrix(cm, classes,\n",
    "                          normalize=False,\n",
    "                          title='Confusion matrix',\n",
    "                          cmap=plt.cm.Blues):\n",
    "    \"\"\"\n",
    "    This function prints and plots the confusion matrix.\n",
    "    Normalization can be applied by setting `normalize=True`.\n",
    "    \"\"\"\n",
    "    if normalize:\n",
    "        cm = cm.astype('float') / cm.sum(axis=1)[:, np.newaxis]\n",
    "        print(\"Normalized confusion matrix\")\n",
    "    else:\n",
    "        print('Confusion matrix, without normalization')\n",
    "\n",
    "    print(cm)\n",
    "\n",
    "    plt.imshow(cm, interpolation='nearest', cmap=cmap)\n",
    "    plt.title(title)\n",
    "    plt.colorbar()\n",
    "    tick_marks = np.arange(len(classes))\n",
    "    plt.xticks(tick_marks, classes, rotation=45)\n",
    "    plt.yticks(tick_marks, classes)\n",
    "\n",
    "    fmt = '.2f' if normalize else 'd'\n",
    "    thresh = cm.max() / 2.\n",
    "    for i, j in itertools.product(range(cm.shape[0]), range(cm.shape[1])):\n",
    "        plt.text(j, i, format(cm[i, j], fmt),\n",
    "                 horizontalalignment=\"center\",\n",
    "                 color=\"white\" if cm[i, j] > thresh else \"black\")\n",
    "\n",
    "    plt.tight_layout()\n",
    "    plt.ylabel('True label')\n",
    "    plt.xlabel('Predicted label')"
   ]
  },
  {
   "cell_type": "code",
   "execution_count": 47,
   "metadata": {},
   "outputs": [
    {
     "name": "stdout",
     "output_type": "stream",
     "text": [
      "              precision    recall  f1-score   support\n",
      "\n",
      "         1.0       0.71      0.88      0.78        41\n",
      "         2.0       0.38      0.17      0.23        18\n",
      "\n",
      "    accuracy                           0.66        59\n",
      "   macro avg       0.54      0.52      0.51        59\n",
      "weighted avg       0.60      0.66      0.61        59\n",
      "\n",
      "Confusion matrix, without normalization\n",
      "[[36  5]\n",
      " [15  3]]\n"
     ]
    },
    {
     "data": {
      "image/png": "[encoded data removed]",
      "text/plain": [
       "<Figure size 432x288 with 2 Axes>"
      ]
     },
     "metadata": {
      "needs_background": "light"
     },
     "output_type": "display_data"
    }
   ],
   "source": [
    "# Compute confusion matrix\n",
    "cnf_matrix = confusion_matrix(y_test, yhat, labels=[1,2])\n",
    "np.set_printoptions(precision=2)\n",
    "\n",
    "print (classification_report(y_test, yhat))\n",
    "\n",
    "# Plot non-normalized confusion matrix\n",
    "plt.figure()\n",
    "plot_confusion_matrix(cnf_matrix, classes=['Good(1)','Bad(2)'],normalize= False,  title='Confusion matrix')"
   ]
  },
  {
   "cell_type": "code",
   "execution_count": 48,
   "metadata": {},
   "outputs": [
    {
     "data": {
      "text/plain": [
       "0.6142508928065302"
      ]
     },
     "execution_count": 48,
     "metadata": {},
     "output_type": "execute_result"
    }
   ],
   "source": [
    "#You can also easily use the f1_score from sklearn library:\n",
    "from sklearn.metrics import f1_score\n",
    "f1_score(y_test, yhat, average='weighted') "
   ]
  },
  {
   "cell_type": "code",
   "execution_count": 49,
   "metadata": {},
   "outputs": [
    {
     "data": {
      "text/plain": [
       "0.6428571428571429"
      ]
     },
     "execution_count": 49,
     "metadata": {},
     "output_type": "execute_result"
    }
   ],
   "source": [
    "from sklearn.metrics import jaccard_score\n",
    "jaccard_score(y_test, yhat)"
   ]
  },
  {
   "cell_type": "code",
   "execution_count": 50,
   "metadata": {},
   "outputs": [
    {
     "name": "stdout",
     "output_type": "stream",
     "text": [
      "Avg F1-score: 0.6842\n",
      "Jaccard score: 0.6122\n"
     ]
    }
   ],
   "source": [
    "# We rebuild the model, but this time with a __linear__ kernel\n",
    "clf2 = svm.SVC(kernel='linear')\n",
    "clf2.fit(X_train, y_train) \n",
    "yhat2 = clf2.predict(X_test)\n",
    "print(\"Avg F1-score: %.4f\" % f1_score(y_test, yhat2, average='weighted'))\n",
    "print(\"Jaccard score: %.4f\" % jaccard_score(y_test, yhat2))"
   ]
  },
  {
   "cell_type": "code",
   "execution_count": 51,
   "metadata": {},
   "outputs": [
    {
     "name": "stdout",
     "output_type": "stream",
     "text": [
      "              precision    recall  f1-score   support\n",
      "\n",
      "         1.0       0.79      0.73      0.76        41\n",
      "         2.0       0.48      0.56      0.51        18\n",
      "\n",
      "    accuracy                           0.68        59\n",
      "   macro avg       0.63      0.64      0.64        59\n",
      "weighted avg       0.69      0.68      0.68        59\n",
      "\n",
      "Confusion matrix, without normalization\n",
      "[[30 11]\n",
      " [ 8 10]]\n"
     ]
    },
    {
     "data": {
      "image/png": "[encoded data removed]",
      "text/plain": [
       "<Figure size 432x288 with 2 Axes>"
      ]
     },
     "metadata": {
      "needs_background": "light"
     },
     "output_type": "display_data"
    }
   ],
   "source": [
    "# Compute confusion matrix\n",
    "cnf_matrix = confusion_matrix(y_test, yhat2, labels=[1,2])\n",
    "np.set_printoptions(precision=2)\n",
    "\n",
    "print (classification_report(y_test, yhat2))\n",
    "\n",
    "# Plot non-normalized confusion matrix\n",
    "plt.figure()\n",
    "plot_confusion_matrix(cnf_matrix, classes=['Good(1)','Bad(2)'],normalize= False,  title='Confusion matrix')"
   ]
  },
  {
   "cell_type": "code",
   "execution_count": 52,
   "metadata": {},
   "outputs": [],
   "source": [
    "# The best accuracy was with classifier implementing the k-nearest neighbors 0.7288135593220338 with  k= 14."
   ]
  },
  {
   "cell_type": "code",
   "execution_count": null,
   "metadata": {},
   "outputs": [],
   "source": []
  },
  {
   "cell_type": "code",
   "execution_count": null,
   "metadata": {},
   "outputs": [],
   "source": []
  }
 ],
 "metadata": {
  "kernelspec": {
   "display_name": "Python 3",
   "language": "python",
   "name": "python3"
  },
  "language_info": {
   "codemirror_mode": {
    "name": "ipython",
    "version": 3
   },
   "file_extension": ".py",
   "mimetype": "text/x-python",
   "name": "python",
   "nbconvert_exporter": "python",
   "pygments_lexer": "ipython3",
   "version": "3.7.6"
  }
 },
 "nbformat": 4,
 "nbformat_minor": 4
}
