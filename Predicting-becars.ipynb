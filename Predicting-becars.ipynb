{
 "cells": [
  {
   "cell_type": "code",
   "execution_count": 1,
   "metadata": {},
   "outputs": [],
   "source": [
    "#In this notebook we try to practice all the classification algorithms that we learned in this course.\n",
    "\n",
    "#We load a dataset using Pandas library, and apply the following algorithms, and find the best one for this specific dataset by accuracy evaluation methods.\n",
    "\n",
    "#Lets first load required libraries:\n",
    "\n",
    "\n",
    "import itertools\n",
    "import numpy as np\n",
    "import matplotlib.pyplot as plt\n",
    "from matplotlib.ticker import NullFormatter\n",
    "import pandas as pd\n",
    "import numpy as np\n",
    "import matplotlib.ticker as ticker\n",
    "from sklearn import preprocessing\n",
    "%matplotlib inline"
   ]
  },
  {
   "cell_type": "code",
   "execution_count": 2,
   "metadata": {},
   "outputs": [
    {
     "data": {
      "text/html": [
       "<div>\n",
       "<style scoped>\n",
       "    .dataframe tbody tr th:only-of-type {\n",
       "        vertical-align: middle;\n",
       "    }\n",
       "\n",
       "    .dataframe tbody tr th {\n",
       "        vertical-align: top;\n",
       "    }\n",
       "\n",
       "    .dataframe thead th {\n",
       "        text-align: right;\n",
       "    }\n",
       "</style>\n",
       "<table border=\"1\" class=\"dataframe\">\n",
       "  <thead>\n",
       "    <tr style=\"text-align: right;\">\n",
       "      <th></th>\n",
       "      <th>MARCA MODELO</th>\n",
       "      <th>MOTOR</th>\n",
       "      <th>CAMBIO</th>\n",
       "      <th>CV</th>\n",
       "      <th>COMBUSTIBLE</th>\n",
       "      <th>COLOR</th>\n",
       "      <th>PROVEEDOR</th>\n",
       "      <th>YEARS</th>\n",
       "      <th>PLAZAS</th>\n",
       "      <th>PCC</th>\n",
       "      <th>...</th>\n",
       "      <th>mes</th>\n",
       "      <th>year</th>\n",
       "      <th>MATRICULA</th>\n",
       "      <th>CTE.GARANTÍA</th>\n",
       "      <th>CTE..PREPARACIÓN</th>\n",
       "      <th>CTE.TOTAL</th>\n",
       "      <th>BF.NETO</th>\n",
       "      <th>GARANTIA</th>\n",
       "      <th>MESES</th>\n",
       "      <th>GARANTIA2</th>\n",
       "    </tr>\n",
       "  </thead>\n",
       "  <tbody>\n",
       "    <tr>\n",
       "      <th>0</th>\n",
       "      <td>RENAULT MEGANE</td>\n",
       "      <td>1.6</td>\n",
       "      <td>MANUAL</td>\n",
       "      <td>75</td>\n",
       "      <td>GASOLINA</td>\n",
       "      <td>NaN</td>\n",
       "      <td>G.COSTA</td>\n",
       "      <td>10</td>\n",
       "      <td>NaN</td>\n",
       "      <td>956.6</td>\n",
       "      <td>...</td>\n",
       "      <td>1</td>\n",
       "      <td>2008</td>\n",
       "      <td>NaN</td>\n",
       "      <td>NaN</td>\n",
       "      <td>NaN</td>\n",
       "      <td>NaN</td>\n",
       "      <td>NaN</td>\n",
       "      <td>NaN</td>\n",
       "      <td>NaN</td>\n",
       "      <td>NaN</td>\n",
       "    </tr>\n",
       "    <tr>\n",
       "      <th>1</th>\n",
       "      <td>VOLVO S60</td>\n",
       "      <td>2.5</td>\n",
       "      <td>MANUAL</td>\n",
       "      <td>145</td>\n",
       "      <td>GASOLINA</td>\n",
       "      <td>NaN</td>\n",
       "      <td>PARTICULAR</td>\n",
       "      <td>7</td>\n",
       "      <td>NaN</td>\n",
       "      <td>7900.0</td>\n",
       "      <td>...</td>\n",
       "      <td>2</td>\n",
       "      <td>2008</td>\n",
       "      <td>NaN</td>\n",
       "      <td>NaN</td>\n",
       "      <td>NaN</td>\n",
       "      <td>NaN</td>\n",
       "      <td>NaN</td>\n",
       "      <td>NaN</td>\n",
       "      <td>NaN</td>\n",
       "      <td>NaN</td>\n",
       "    </tr>\n",
       "    <tr>\n",
       "      <th>2</th>\n",
       "      <td>VOLKSWAGEN PASSAT</td>\n",
       "      <td>1.9</td>\n",
       "      <td>MANUAL</td>\n",
       "      <td>130</td>\n",
       "      <td>DIESEL</td>\n",
       "      <td>NaN</td>\n",
       "      <td>LEASEPLAN</td>\n",
       "      <td>5</td>\n",
       "      <td>NaN</td>\n",
       "      <td>11200.0</td>\n",
       "      <td>...</td>\n",
       "      <td>2</td>\n",
       "      <td>2008</td>\n",
       "      <td>NaN</td>\n",
       "      <td>NaN</td>\n",
       "      <td>NaN</td>\n",
       "      <td>NaN</td>\n",
       "      <td>NaN</td>\n",
       "      <td>NaN</td>\n",
       "      <td>NaN</td>\n",
       "      <td>NaN</td>\n",
       "    </tr>\n",
       "    <tr>\n",
       "      <th>3</th>\n",
       "      <td>SEAT TOLEDO</td>\n",
       "      <td>1.9</td>\n",
       "      <td>MANUAL</td>\n",
       "      <td>110</td>\n",
       "      <td>DIESEL</td>\n",
       "      <td>NaN</td>\n",
       "      <td>LEASEPLAN</td>\n",
       "      <td>5</td>\n",
       "      <td>NaN</td>\n",
       "      <td>7300.0</td>\n",
       "      <td>...</td>\n",
       "      <td>3</td>\n",
       "      <td>2008</td>\n",
       "      <td>NaN</td>\n",
       "      <td>NaN</td>\n",
       "      <td>NaN</td>\n",
       "      <td>NaN</td>\n",
       "      <td>NaN</td>\n",
       "      <td>NaN</td>\n",
       "      <td>NaN</td>\n",
       "      <td>NaN</td>\n",
       "    </tr>\n",
       "    <tr>\n",
       "      <th>4</th>\n",
       "      <td>SKODA OCTAVIA</td>\n",
       "      <td>1.9</td>\n",
       "      <td>MANUAL</td>\n",
       "      <td>105</td>\n",
       "      <td>DIESEL</td>\n",
       "      <td>NaN</td>\n",
       "      <td>LEASEPLAN</td>\n",
       "      <td>3</td>\n",
       "      <td>NaN</td>\n",
       "      <td>10000.0</td>\n",
       "      <td>...</td>\n",
       "      <td>3</td>\n",
       "      <td>2008</td>\n",
       "      <td>NaN</td>\n",
       "      <td>NaN</td>\n",
       "      <td>NaN</td>\n",
       "      <td>NaN</td>\n",
       "      <td>NaN</td>\n",
       "      <td>NaN</td>\n",
       "      <td>NaN</td>\n",
       "      <td>NaN</td>\n",
       "    </tr>\n",
       "  </tbody>\n",
       "</table>\n",
       "<p>5 rows × 35 columns</p>\n",
       "</div>"
      ],
      "text/plain": [
       "        MARCA MODELO  MOTOR  CAMBIO   CV COMBUSTIBLE COLOR   PROVEEDOR  YEARS  \\\n",
       "0     RENAULT MEGANE    1.6  MANUAL   75    GASOLINA   NaN     G.COSTA     10   \n",
       "1          VOLVO S60    2.5  MANUAL  145    GASOLINA   NaN  PARTICULAR      7   \n",
       "2  VOLKSWAGEN PASSAT    1.9  MANUAL  130      DIESEL   NaN   LEASEPLAN      5   \n",
       "3        SEAT TOLEDO    1.9  MANUAL  110      DIESEL   NaN   LEASEPLAN      5   \n",
       "4      SKODA OCTAVIA    1.9  MANUAL  105      DIESEL   NaN   LEASEPLAN      3   \n",
       "\n",
       "   PLAZAS      PCC  ...  mes  year  MATRICULA  CTE.GARANTÍA  CTE..PREPARACIÓN  \\\n",
       "0     NaN    956.6  ...    1  2008        NaN           NaN               NaN   \n",
       "1     NaN   7900.0  ...    2  2008        NaN           NaN               NaN   \n",
       "2     NaN  11200.0  ...    2  2008        NaN           NaN               NaN   \n",
       "3     NaN   7300.0  ...    3  2008        NaN           NaN               NaN   \n",
       "4     NaN  10000.0  ...    3  2008        NaN           NaN               NaN   \n",
       "\n",
       "   CTE.TOTAL BF.NETO GARANTIA  MESES GARANTIA2  \n",
       "0        NaN     NaN      NaN    NaN       NaN  \n",
       "1        NaN     NaN      NaN    NaN       NaN  \n",
       "2        NaN     NaN      NaN    NaN       NaN  \n",
       "3        NaN     NaN      NaN    NaN       NaN  \n",
       "4        NaN     NaN      NaN    NaN       NaN  \n",
       "\n",
       "[5 rows x 35 columns]"
      ]
     },
     "execution_count": 2,
     "metadata": {},
     "output_type": "execute_result"
    }
   ],
   "source": [
    "\n",
    "#Load Data From CSV File\n",
    "#Let's load the dataset [NB Need to provide link to csv file]\n",
    "\n",
    "\n",
    "df = pd.read_excel(r'C:\\Users\\djina\\OneDrive\\Documentos\\Data Science\\Becars\\VENDIDOS1MESHISTORICOml.xlsx')\n",
    "\n",
    "df.head()\n"
   ]
  },
  {
   "cell_type": "code",
   "execution_count": 3,
   "metadata": {},
   "outputs": [
    {
     "data": {
      "text/plain": [
       "(375, 35)"
      ]
     },
     "execution_count": 3,
     "metadata": {},
     "output_type": "execute_result"
    }
   ],
   "source": [
    "\n",
    "df.shape"
   ]
  },
  {
   "cell_type": "code",
   "execution_count": 4,
   "metadata": {},
   "outputs": [
    {
     "data": {
      "text/plain": [
       "(375, 35)"
      ]
     },
     "execution_count": 4,
     "metadata": {},
     "output_type": "execute_result"
    }
   ],
   "source": [
    "df.shape"
   ]
  },
  {
   "cell_type": "code",
   "execution_count": 5,
   "metadata": {},
   "outputs": [
    {
     "data": {
      "text/plain": [
       "(16, 35)"
      ]
     },
     "execution_count": 5,
     "metadata": {},
     "output_type": "execute_result"
    }
   ],
   "source": [
    "# We wan to know of total GARANTIA 2 which are good or MESES with value to 1\n",
    "df[(df.GARANTIA==2) & (df.MESES==1.0)].shape"
   ]
  },
  {
   "cell_type": "code",
   "execution_count": 6,
   "metadata": {},
   "outputs": [
    {
     "data": {
      "text/plain": [
       "0.4642857142857143"
      ]
     },
     "execution_count": 6,
     "metadata": {},
     "output_type": "execute_result"
    }
   ],
   "source": [
    "df3=df[(df.GARANTIA==2)]\n",
    "df3.shape\n",
    "Accuracygarangtia2=13/28\n",
    "Accuracygarangtia2"
   ]
  },
  {
   "cell_type": "code",
   "execution_count": 7,
   "metadata": {},
   "outputs": [],
   "source": [
    "#Use one hot encoding technique to conver categorical varables to binary variables and append them to the feature Data Frame\n",
    "df.drop(['GARANTIA','BF.NETO','CTE.TOTAL','CTE.GARANTÍA','MATRICULA','edad','sexo','nacionalidad','pais','provincia','localidad','C.P','C AUTO1','NETO','mes'], axis = 'columns', inplace=True)"
   ]
  },
  {
   "cell_type": "code",
   "execution_count": 8,
   "metadata": {},
   "outputs": [
    {
     "data": {
      "text/html": [
       "<div>\n",
       "<style scoped>\n",
       "    .dataframe tbody tr th:only-of-type {\n",
       "        vertical-align: middle;\n",
       "    }\n",
       "\n",
       "    .dataframe tbody tr th {\n",
       "        vertical-align: top;\n",
       "    }\n",
       "\n",
       "    .dataframe thead th {\n",
       "        text-align: right;\n",
       "    }\n",
       "</style>\n",
       "<table border=\"1\" class=\"dataframe\">\n",
       "  <thead>\n",
       "    <tr style=\"text-align: right;\">\n",
       "      <th></th>\n",
       "      <th>MARCA MODELO</th>\n",
       "      <th>MOTOR</th>\n",
       "      <th>CAMBIO</th>\n",
       "      <th>CV</th>\n",
       "      <th>COMBUSTIBLE</th>\n",
       "      <th>COLOR</th>\n",
       "      <th>PROVEEDOR</th>\n",
       "      <th>YEARS</th>\n",
       "      <th>PLAZAS</th>\n",
       "      <th>PCC</th>\n",
       "      <th>PCOMPRA</th>\n",
       "      <th>PVENTA</th>\n",
       "      <th>BRUTO</th>\n",
       "      <th>KM</th>\n",
       "      <th>tipo</th>\n",
       "      <th>llantas</th>\n",
       "      <th>year</th>\n",
       "      <th>CTE..PREPARACIÓN</th>\n",
       "      <th>MESES</th>\n",
       "      <th>GARANTIA2</th>\n",
       "    </tr>\n",
       "  </thead>\n",
       "  <tbody>\n",
       "    <tr>\n",
       "      <th>0</th>\n",
       "      <td>RENAULT MEGANE</td>\n",
       "      <td>1.6</td>\n",
       "      <td>MANUAL</td>\n",
       "      <td>75</td>\n",
       "      <td>GASOLINA</td>\n",
       "      <td>NaN</td>\n",
       "      <td>G.COSTA</td>\n",
       "      <td>10</td>\n",
       "      <td>NaN</td>\n",
       "      <td>956.6</td>\n",
       "      <td>956.6</td>\n",
       "      <td>4500</td>\n",
       "      <td>3543.4</td>\n",
       "      <td>109988</td>\n",
       "      <td>med</td>\n",
       "      <td>si</td>\n",
       "      <td>2008</td>\n",
       "      <td>NaN</td>\n",
       "      <td>NaN</td>\n",
       "      <td>NaN</td>\n",
       "    </tr>\n",
       "    <tr>\n",
       "      <th>1</th>\n",
       "      <td>VOLVO S60</td>\n",
       "      <td>2.5</td>\n",
       "      <td>MANUAL</td>\n",
       "      <td>145</td>\n",
       "      <td>GASOLINA</td>\n",
       "      <td>NaN</td>\n",
       "      <td>PARTICULAR</td>\n",
       "      <td>7</td>\n",
       "      <td>NaN</td>\n",
       "      <td>7900.0</td>\n",
       "      <td>7900.0</td>\n",
       "      <td>10500</td>\n",
       "      <td>2600.0</td>\n",
       "      <td>185390</td>\n",
       "      <td>gra</td>\n",
       "      <td>si</td>\n",
       "      <td>2008</td>\n",
       "      <td>NaN</td>\n",
       "      <td>NaN</td>\n",
       "      <td>NaN</td>\n",
       "    </tr>\n",
       "    <tr>\n",
       "      <th>2</th>\n",
       "      <td>VOLKSWAGEN PASSAT</td>\n",
       "      <td>1.9</td>\n",
       "      <td>MANUAL</td>\n",
       "      <td>130</td>\n",
       "      <td>DIESEL</td>\n",
       "      <td>NaN</td>\n",
       "      <td>LEASEPLAN</td>\n",
       "      <td>5</td>\n",
       "      <td>NaN</td>\n",
       "      <td>11200.0</td>\n",
       "      <td>11200.0</td>\n",
       "      <td>15750</td>\n",
       "      <td>4550.0</td>\n",
       "      <td>73790</td>\n",
       "      <td>gra</td>\n",
       "      <td>si</td>\n",
       "      <td>2008</td>\n",
       "      <td>NaN</td>\n",
       "      <td>NaN</td>\n",
       "      <td>NaN</td>\n",
       "    </tr>\n",
       "    <tr>\n",
       "      <th>3</th>\n",
       "      <td>SEAT TOLEDO</td>\n",
       "      <td>1.9</td>\n",
       "      <td>MANUAL</td>\n",
       "      <td>110</td>\n",
       "      <td>DIESEL</td>\n",
       "      <td>NaN</td>\n",
       "      <td>LEASEPLAN</td>\n",
       "      <td>5</td>\n",
       "      <td>NaN</td>\n",
       "      <td>7300.0</td>\n",
       "      <td>7300.0</td>\n",
       "      <td>9900</td>\n",
       "      <td>2600.0</td>\n",
       "      <td>97257</td>\n",
       "      <td>gra</td>\n",
       "      <td>si</td>\n",
       "      <td>2008</td>\n",
       "      <td>NaN</td>\n",
       "      <td>NaN</td>\n",
       "      <td>NaN</td>\n",
       "    </tr>\n",
       "    <tr>\n",
       "      <th>4</th>\n",
       "      <td>SKODA OCTAVIA</td>\n",
       "      <td>1.9</td>\n",
       "      <td>MANUAL</td>\n",
       "      <td>105</td>\n",
       "      <td>DIESEL</td>\n",
       "      <td>NaN</td>\n",
       "      <td>LEASEPLAN</td>\n",
       "      <td>3</td>\n",
       "      <td>NaN</td>\n",
       "      <td>10000.0</td>\n",
       "      <td>10000.0</td>\n",
       "      <td>12600</td>\n",
       "      <td>2600.0</td>\n",
       "      <td>92481</td>\n",
       "      <td>gra</td>\n",
       "      <td>si</td>\n",
       "      <td>2008</td>\n",
       "      <td>NaN</td>\n",
       "      <td>NaN</td>\n",
       "      <td>NaN</td>\n",
       "    </tr>\n",
       "  </tbody>\n",
       "</table>\n",
       "</div>"
      ],
      "text/plain": [
       "        MARCA MODELO  MOTOR  CAMBIO   CV COMBUSTIBLE COLOR   PROVEEDOR  YEARS  \\\n",
       "0     RENAULT MEGANE    1.6  MANUAL   75    GASOLINA   NaN     G.COSTA     10   \n",
       "1          VOLVO S60    2.5  MANUAL  145    GASOLINA   NaN  PARTICULAR      7   \n",
       "2  VOLKSWAGEN PASSAT    1.9  MANUAL  130      DIESEL   NaN   LEASEPLAN      5   \n",
       "3        SEAT TOLEDO    1.9  MANUAL  110      DIESEL   NaN   LEASEPLAN      5   \n",
       "4      SKODA OCTAVIA    1.9  MANUAL  105      DIESEL   NaN   LEASEPLAN      3   \n",
       "\n",
       "   PLAZAS      PCC  PCOMPRA  PVENTA   BRUTO      KM tipo llantas  year  \\\n",
       "0     NaN    956.6    956.6    4500  3543.4  109988  med      si  2008   \n",
       "1     NaN   7900.0   7900.0   10500  2600.0  185390  gra      si  2008   \n",
       "2     NaN  11200.0  11200.0   15750  4550.0   73790  gra      si  2008   \n",
       "3     NaN   7300.0   7300.0    9900  2600.0   97257  gra      si  2008   \n",
       "4     NaN  10000.0  10000.0   12600  2600.0   92481  gra      si  2008   \n",
       "\n",
       "   CTE..PREPARACIÓN  MESES GARANTIA2  \n",
       "0               NaN    NaN       NaN  \n",
       "1               NaN    NaN       NaN  \n",
       "2               NaN    NaN       NaN  \n",
       "3               NaN    NaN       NaN  \n",
       "4               NaN    NaN       NaN  "
      ]
     },
     "execution_count": 8,
     "metadata": {},
     "output_type": "execute_result"
    }
   ],
   "source": [
    "#Feature after One Hot Encoding\n",
    "df.head()"
   ]
  },
  {
   "cell_type": "code",
   "execution_count": 9,
   "metadata": {},
   "outputs": [
    {
     "data": {
      "text/html": [
       "<div>\n",
       "<style scoped>\n",
       "    .dataframe tbody tr th:only-of-type {\n",
       "        vertical-align: middle;\n",
       "    }\n",
       "\n",
       "    .dataframe tbody tr th {\n",
       "        vertical-align: top;\n",
       "    }\n",
       "\n",
       "    .dataframe thead th {\n",
       "        text-align: right;\n",
       "    }\n",
       "</style>\n",
       "<table border=\"1\" class=\"dataframe\">\n",
       "  <thead>\n",
       "    <tr style=\"text-align: right;\">\n",
       "      <th></th>\n",
       "      <th>MARCA MODELO</th>\n",
       "      <th>MOTOR</th>\n",
       "      <th>CAMBIO</th>\n",
       "      <th>CV</th>\n",
       "      <th>COMBUSTIBLE</th>\n",
       "      <th>COLOR</th>\n",
       "      <th>PROVEEDOR</th>\n",
       "      <th>YEARS</th>\n",
       "      <th>PLAZAS</th>\n",
       "      <th>PCC</th>\n",
       "      <th>PCOMPRA</th>\n",
       "      <th>PVENTA</th>\n",
       "      <th>BRUTO</th>\n",
       "      <th>KM</th>\n",
       "      <th>tipo</th>\n",
       "      <th>llantas</th>\n",
       "      <th>year</th>\n",
       "      <th>CTE..PREPARACIÓN</th>\n",
       "      <th>MESES</th>\n",
       "      <th>GARANTIA2</th>\n",
       "    </tr>\n",
       "  </thead>\n",
       "  <tbody>\n",
       "    <tr>\n",
       "      <th>99</th>\n",
       "      <td>VOLKSWAGEN POLO</td>\n",
       "      <td>1.4</td>\n",
       "      <td>MANUAL</td>\n",
       "      <td>75</td>\n",
       "      <td>GASOLINA</td>\n",
       "      <td>NEGRO</td>\n",
       "      <td>MAVISA</td>\n",
       "      <td>12</td>\n",
       "      <td>5.0</td>\n",
       "      <td>1805.0</td>\n",
       "      <td>1805.0</td>\n",
       "      <td>4500</td>\n",
       "      <td>2695.0</td>\n",
       "      <td>91431</td>\n",
       "      <td>peq</td>\n",
       "      <td>si</td>\n",
       "      <td>2016</td>\n",
       "      <td>2089.46</td>\n",
       "      <td>2.0</td>\n",
       "      <td>si</td>\n",
       "    </tr>\n",
       "    <tr>\n",
       "      <th>100</th>\n",
       "      <td>OPEL INSIGNIA</td>\n",
       "      <td>2.0</td>\n",
       "      <td>MANUAL</td>\n",
       "      <td>130</td>\n",
       "      <td>DIESEL</td>\n",
       "      <td>BLANCO</td>\n",
       "      <td>ARVAL</td>\n",
       "      <td>4</td>\n",
       "      <td>5.0</td>\n",
       "      <td>10821.0</td>\n",
       "      <td>10821.0</td>\n",
       "      <td>13300</td>\n",
       "      <td>2479.0</td>\n",
       "      <td>74210</td>\n",
       "      <td>gra</td>\n",
       "      <td>si</td>\n",
       "      <td>2016</td>\n",
       "      <td>307.60</td>\n",
       "      <td>1.0</td>\n",
       "      <td>si</td>\n",
       "    </tr>\n",
       "    <tr>\n",
       "      <th>101</th>\n",
       "      <td>CITROEN C4</td>\n",
       "      <td>1.6</td>\n",
       "      <td>MANUAL</td>\n",
       "      <td>110</td>\n",
       "      <td>GASOLINA</td>\n",
       "      <td>GRIS</td>\n",
       "      <td>AUTO1</td>\n",
       "      <td>10</td>\n",
       "      <td>5.0</td>\n",
       "      <td>2250.0</td>\n",
       "      <td>2250.0</td>\n",
       "      <td>5300</td>\n",
       "      <td>3050.0</td>\n",
       "      <td>82294</td>\n",
       "      <td>med</td>\n",
       "      <td>no</td>\n",
       "      <td>2016</td>\n",
       "      <td>986.07</td>\n",
       "      <td>1.0</td>\n",
       "      <td>si</td>\n",
       "    </tr>\n",
       "    <tr>\n",
       "      <th>102</th>\n",
       "      <td>AUDI A4</td>\n",
       "      <td>1.9</td>\n",
       "      <td>MANUAL</td>\n",
       "      <td>130</td>\n",
       "      <td>DIESEL</td>\n",
       "      <td>PLATA</td>\n",
       "      <td>MUNDOMOVIL</td>\n",
       "      <td>12</td>\n",
       "      <td>5.0</td>\n",
       "      <td>4000.0</td>\n",
       "      <td>4000.0</td>\n",
       "      <td>7500</td>\n",
       "      <td>3500.0</td>\n",
       "      <td>184488</td>\n",
       "      <td>gra</td>\n",
       "      <td>si</td>\n",
       "      <td>2016</td>\n",
       "      <td>967.89</td>\n",
       "      <td>1.0</td>\n",
       "      <td>si</td>\n",
       "    </tr>\n",
       "    <tr>\n",
       "      <th>103</th>\n",
       "      <td>RENAULT TRAFIC</td>\n",
       "      <td>2.0</td>\n",
       "      <td>MANUAL</td>\n",
       "      <td>115</td>\n",
       "      <td>DIESEL</td>\n",
       "      <td>BLANCO</td>\n",
       "      <td>ARVAL</td>\n",
       "      <td>6</td>\n",
       "      <td>6.0</td>\n",
       "      <td>10900.0</td>\n",
       "      <td>10900.0</td>\n",
       "      <td>13700</td>\n",
       "      <td>2800.0</td>\n",
       "      <td>84172</td>\n",
       "      <td>fur</td>\n",
       "      <td>no</td>\n",
       "      <td>2016</td>\n",
       "      <td>821.60</td>\n",
       "      <td>1.0</td>\n",
       "      <td>si</td>\n",
       "    </tr>\n",
       "  </tbody>\n",
       "</table>\n",
       "</div>"
      ],
      "text/plain": [
       "        MARCA MODELO  MOTOR  CAMBIO   CV COMBUSTIBLE   COLOR   PROVEEDOR  \\\n",
       "99   VOLKSWAGEN POLO    1.4  MANUAL   75    GASOLINA   NEGRO      MAVISA   \n",
       "100    OPEL INSIGNIA    2.0  MANUAL  130      DIESEL  BLANCO       ARVAL   \n",
       "101       CITROEN C4    1.6  MANUAL  110    GASOLINA    GRIS       AUTO1   \n",
       "102          AUDI A4    1.9  MANUAL  130      DIESEL   PLATA  MUNDOMOVIL   \n",
       "103   RENAULT TRAFIC    2.0  MANUAL  115      DIESEL  BLANCO       ARVAL   \n",
       "\n",
       "     YEARS  PLAZAS      PCC  PCOMPRA  PVENTA   BRUTO      KM tipo llantas  \\\n",
       "99      12     5.0   1805.0   1805.0    4500  2695.0   91431  peq      si   \n",
       "100      4     5.0  10821.0  10821.0   13300  2479.0   74210  gra      si   \n",
       "101     10     5.0   2250.0   2250.0    5300  3050.0   82294  med      no   \n",
       "102     12     5.0   4000.0   4000.0    7500  3500.0  184488  gra      si   \n",
       "103      6     6.0  10900.0  10900.0   13700  2800.0   84172  fur      no   \n",
       "\n",
       "     year  CTE..PREPARACIÓN  MESES GARANTIA2  \n",
       "99   2016           2089.46    2.0        si  \n",
       "100  2016            307.60    1.0        si  \n",
       "101  2016            986.07    1.0        si  \n",
       "102  2016            967.89    1.0        si  \n",
       "103  2016            821.60    1.0        si  "
      ]
     },
     "execution_count": 9,
     "metadata": {},
     "output_type": "execute_result"
    }
   ],
   "source": [
    "df = df.dropna()\n",
    "df.head()"
   ]
  },
  {
   "cell_type": "code",
   "execution_count": 10,
   "metadata": {},
   "outputs": [
    {
     "data": {
      "text/plain": [
       "MARCA MODELO        0\n",
       "MOTOR               0\n",
       "CAMBIO              0\n",
       "CV                  0\n",
       "COMBUSTIBLE         0\n",
       "COLOR               0\n",
       "PROVEEDOR           0\n",
       "YEARS               0\n",
       "PLAZAS              0\n",
       "PCC                 0\n",
       "PCOMPRA             0\n",
       "PVENTA              0\n",
       "BRUTO               0\n",
       "KM                  0\n",
       "tipo                0\n",
       "llantas             0\n",
       "year                0\n",
       "CTE..PREPARACIÓN    0\n",
       "MESES               0\n",
       "GARANTIA2           0\n",
       "dtype: int64"
      ]
     },
     "execution_count": 10,
     "metadata": {},
     "output_type": "execute_result"
    }
   ],
   "source": [
    "df.isnull().sum()"
   ]
  },
  {
   "cell_type": "code",
   "execution_count": 11,
   "metadata": {},
   "outputs": [],
   "source": [
    "df = pd.DataFrame(df)\n",
    "\n",
    "df_columns = df.columns\n",
    "\n",
    "predictors = df[df_columns[df_columns != 'MESES']] # all columns except MESES \n",
    "target = df['MESES'] # MESES  column"
   ]
  },
  {
   "cell_type": "code",
   "execution_count": 12,
   "metadata": {},
   "outputs": [
    {
     "data": {
      "text/html": [
       "<div>\n",
       "<style scoped>\n",
       "    .dataframe tbody tr th:only-of-type {\n",
       "        vertical-align: middle;\n",
       "    }\n",
       "\n",
       "    .dataframe tbody tr th {\n",
       "        vertical-align: top;\n",
       "    }\n",
       "\n",
       "    .dataframe thead th {\n",
       "        text-align: right;\n",
       "    }\n",
       "</style>\n",
       "<table border=\"1\" class=\"dataframe\">\n",
       "  <thead>\n",
       "    <tr style=\"text-align: right;\">\n",
       "      <th></th>\n",
       "      <th>MARCA MODELO</th>\n",
       "      <th>MOTOR</th>\n",
       "      <th>CAMBIO</th>\n",
       "      <th>CV</th>\n",
       "      <th>COMBUSTIBLE</th>\n",
       "      <th>COLOR</th>\n",
       "      <th>PROVEEDOR</th>\n",
       "      <th>YEARS</th>\n",
       "      <th>PLAZAS</th>\n",
       "      <th>PCC</th>\n",
       "      <th>PCOMPRA</th>\n",
       "      <th>PVENTA</th>\n",
       "      <th>BRUTO</th>\n",
       "      <th>KM</th>\n",
       "      <th>tipo</th>\n",
       "      <th>llantas</th>\n",
       "      <th>year</th>\n",
       "      <th>CTE..PREPARACIÓN</th>\n",
       "      <th>GARANTIA2</th>\n",
       "    </tr>\n",
       "  </thead>\n",
       "  <tbody>\n",
       "    <tr>\n",
       "      <th>99</th>\n",
       "      <td>VOLKSWAGEN POLO</td>\n",
       "      <td>1.4</td>\n",
       "      <td>MANUAL</td>\n",
       "      <td>75</td>\n",
       "      <td>GASOLINA</td>\n",
       "      <td>NEGRO</td>\n",
       "      <td>MAVISA</td>\n",
       "      <td>12</td>\n",
       "      <td>5.0</td>\n",
       "      <td>1805.0</td>\n",
       "      <td>1805.0</td>\n",
       "      <td>4500</td>\n",
       "      <td>2695.0</td>\n",
       "      <td>91431</td>\n",
       "      <td>peq</td>\n",
       "      <td>si</td>\n",
       "      <td>2016</td>\n",
       "      <td>2089.46</td>\n",
       "      <td>si</td>\n",
       "    </tr>\n",
       "    <tr>\n",
       "      <th>100</th>\n",
       "      <td>OPEL INSIGNIA</td>\n",
       "      <td>2.0</td>\n",
       "      <td>MANUAL</td>\n",
       "      <td>130</td>\n",
       "      <td>DIESEL</td>\n",
       "      <td>BLANCO</td>\n",
       "      <td>ARVAL</td>\n",
       "      <td>4</td>\n",
       "      <td>5.0</td>\n",
       "      <td>10821.0</td>\n",
       "      <td>10821.0</td>\n",
       "      <td>13300</td>\n",
       "      <td>2479.0</td>\n",
       "      <td>74210</td>\n",
       "      <td>gra</td>\n",
       "      <td>si</td>\n",
       "      <td>2016</td>\n",
       "      <td>307.60</td>\n",
       "      <td>si</td>\n",
       "    </tr>\n",
       "    <tr>\n",
       "      <th>101</th>\n",
       "      <td>CITROEN C4</td>\n",
       "      <td>1.6</td>\n",
       "      <td>MANUAL</td>\n",
       "      <td>110</td>\n",
       "      <td>GASOLINA</td>\n",
       "      <td>GRIS</td>\n",
       "      <td>AUTO1</td>\n",
       "      <td>10</td>\n",
       "      <td>5.0</td>\n",
       "      <td>2250.0</td>\n",
       "      <td>2250.0</td>\n",
       "      <td>5300</td>\n",
       "      <td>3050.0</td>\n",
       "      <td>82294</td>\n",
       "      <td>med</td>\n",
       "      <td>no</td>\n",
       "      <td>2016</td>\n",
       "      <td>986.07</td>\n",
       "      <td>si</td>\n",
       "    </tr>\n",
       "    <tr>\n",
       "      <th>102</th>\n",
       "      <td>AUDI A4</td>\n",
       "      <td>1.9</td>\n",
       "      <td>MANUAL</td>\n",
       "      <td>130</td>\n",
       "      <td>DIESEL</td>\n",
       "      <td>PLATA</td>\n",
       "      <td>MUNDOMOVIL</td>\n",
       "      <td>12</td>\n",
       "      <td>5.0</td>\n",
       "      <td>4000.0</td>\n",
       "      <td>4000.0</td>\n",
       "      <td>7500</td>\n",
       "      <td>3500.0</td>\n",
       "      <td>184488</td>\n",
       "      <td>gra</td>\n",
       "      <td>si</td>\n",
       "      <td>2016</td>\n",
       "      <td>967.89</td>\n",
       "      <td>si</td>\n",
       "    </tr>\n",
       "    <tr>\n",
       "      <th>103</th>\n",
       "      <td>RENAULT TRAFIC</td>\n",
       "      <td>2.0</td>\n",
       "      <td>MANUAL</td>\n",
       "      <td>115</td>\n",
       "      <td>DIESEL</td>\n",
       "      <td>BLANCO</td>\n",
       "      <td>ARVAL</td>\n",
       "      <td>6</td>\n",
       "      <td>6.0</td>\n",
       "      <td>10900.0</td>\n",
       "      <td>10900.0</td>\n",
       "      <td>13700</td>\n",
       "      <td>2800.0</td>\n",
       "      <td>84172</td>\n",
       "      <td>fur</td>\n",
       "      <td>no</td>\n",
       "      <td>2016</td>\n",
       "      <td>821.60</td>\n",
       "      <td>si</td>\n",
       "    </tr>\n",
       "  </tbody>\n",
       "</table>\n",
       "</div>"
      ],
      "text/plain": [
       "        MARCA MODELO  MOTOR  CAMBIO   CV COMBUSTIBLE   COLOR   PROVEEDOR  \\\n",
       "99   VOLKSWAGEN POLO    1.4  MANUAL   75    GASOLINA   NEGRO      MAVISA   \n",
       "100    OPEL INSIGNIA    2.0  MANUAL  130      DIESEL  BLANCO       ARVAL   \n",
       "101       CITROEN C4    1.6  MANUAL  110    GASOLINA    GRIS       AUTO1   \n",
       "102          AUDI A4    1.9  MANUAL  130      DIESEL   PLATA  MUNDOMOVIL   \n",
       "103   RENAULT TRAFIC    2.0  MANUAL  115      DIESEL  BLANCO       ARVAL   \n",
       "\n",
       "     YEARS  PLAZAS      PCC  PCOMPRA  PVENTA   BRUTO      KM tipo llantas  \\\n",
       "99      12     5.0   1805.0   1805.0    4500  2695.0   91431  peq      si   \n",
       "100      4     5.0  10821.0  10821.0   13300  2479.0   74210  gra      si   \n",
       "101     10     5.0   2250.0   2250.0    5300  3050.0   82294  med      no   \n",
       "102     12     5.0   4000.0   4000.0    7500  3500.0  184488  gra      si   \n",
       "103      6     6.0  10900.0  10900.0   13700  2800.0   84172  fur      no   \n",
       "\n",
       "     year  CTE..PREPARACIÓN GARANTIA2  \n",
       "99   2016           2089.46        si  \n",
       "100  2016            307.60        si  \n",
       "101  2016            986.07        si  \n",
       "102  2016            967.89        si  \n",
       "103  2016            821.60        si  "
      ]
     },
     "execution_count": 12,
     "metadata": {},
     "output_type": "execute_result"
    }
   ],
   "source": [
    "predictors.head()"
   ]
  },
  {
   "cell_type": "code",
   "execution_count": 13,
   "metadata": {},
   "outputs": [
    {
     "data": {
      "text/plain": [
       "99     2.0\n",
       "100    1.0\n",
       "101    1.0\n",
       "102    1.0\n",
       "103    1.0\n",
       "Name: MESES, dtype: float64"
      ]
     },
     "execution_count": 13,
     "metadata": {},
     "output_type": "execute_result"
    }
   ],
   "source": [
    "target.head()"
   ]
  },
  {
   "cell_type": "code",
   "execution_count": 14,
   "metadata": {},
   "outputs": [],
   "source": [
    "predictors = pd.get_dummies(predictors, columns = [\"MARCA MODELO\"])\n",
    "predictors = pd.get_dummies(predictors, columns = [\"CAMBIO\"])\n",
    "predictors = pd.get_dummies(predictors, columns = [\"COMBUSTIBLE\"])\n",
    "predictors = pd.get_dummies(predictors, columns = [\"COLOR\"])\n",
    "predictors = pd.get_dummies(predictors, columns = [\"PROVEEDOR\"])\n",
    "predictors = pd.get_dummies(predictors, columns = [\"tipo\"])\n",
    "predictors = pd.get_dummies(predictors, columns = [\"llantas\"])\n",
    "predictors = pd.get_dummies(predictors, columns = [\"GARANTIA2\"])"
   ]
  },
  {
   "cell_type": "code",
   "execution_count": 15,
   "metadata": {},
   "outputs": [
    {
     "data": {
      "text/html": [
       "<div>\n",
       "<style scoped>\n",
       "    .dataframe tbody tr th:only-of-type {\n",
       "        vertical-align: middle;\n",
       "    }\n",
       "\n",
       "    .dataframe tbody tr th {\n",
       "        vertical-align: top;\n",
       "    }\n",
       "\n",
       "    .dataframe thead th {\n",
       "        text-align: right;\n",
       "    }\n",
       "</style>\n",
       "<table border=\"1\" class=\"dataframe\">\n",
       "  <thead>\n",
       "    <tr style=\"text-align: right;\">\n",
       "      <th></th>\n",
       "      <th>MOTOR</th>\n",
       "      <th>CV</th>\n",
       "      <th>YEARS</th>\n",
       "      <th>PLAZAS</th>\n",
       "      <th>PCC</th>\n",
       "      <th>PCOMPRA</th>\n",
       "      <th>PVENTA</th>\n",
       "      <th>BRUTO</th>\n",
       "      <th>KM</th>\n",
       "      <th>year</th>\n",
       "      <th>...</th>\n",
       "      <th>tipo_mon</th>\n",
       "      <th>tipo_monp</th>\n",
       "      <th>tipo_peq</th>\n",
       "      <th>tipo_pickup</th>\n",
       "      <th>tipo_sub</th>\n",
       "      <th>tipo_tt</th>\n",
       "      <th>llantas_no</th>\n",
       "      <th>llantas_si</th>\n",
       "      <th>GARANTIA2_no</th>\n",
       "      <th>GARANTIA2_si</th>\n",
       "    </tr>\n",
       "  </thead>\n",
       "  <tbody>\n",
       "    <tr>\n",
       "      <th>99</th>\n",
       "      <td>1.4</td>\n",
       "      <td>75</td>\n",
       "      <td>12</td>\n",
       "      <td>5.0</td>\n",
       "      <td>1805.0</td>\n",
       "      <td>1805.0</td>\n",
       "      <td>4500</td>\n",
       "      <td>2695.0</td>\n",
       "      <td>91431</td>\n",
       "      <td>2016</td>\n",
       "      <td>...</td>\n",
       "      <td>0</td>\n",
       "      <td>0</td>\n",
       "      <td>1</td>\n",
       "      <td>0</td>\n",
       "      <td>0</td>\n",
       "      <td>0</td>\n",
       "      <td>0</td>\n",
       "      <td>1</td>\n",
       "      <td>0</td>\n",
       "      <td>1</td>\n",
       "    </tr>\n",
       "    <tr>\n",
       "      <th>100</th>\n",
       "      <td>2.0</td>\n",
       "      <td>130</td>\n",
       "      <td>4</td>\n",
       "      <td>5.0</td>\n",
       "      <td>10821.0</td>\n",
       "      <td>10821.0</td>\n",
       "      <td>13300</td>\n",
       "      <td>2479.0</td>\n",
       "      <td>74210</td>\n",
       "      <td>2016</td>\n",
       "      <td>...</td>\n",
       "      <td>0</td>\n",
       "      <td>0</td>\n",
       "      <td>0</td>\n",
       "      <td>0</td>\n",
       "      <td>0</td>\n",
       "      <td>0</td>\n",
       "      <td>0</td>\n",
       "      <td>1</td>\n",
       "      <td>0</td>\n",
       "      <td>1</td>\n",
       "    </tr>\n",
       "    <tr>\n",
       "      <th>101</th>\n",
       "      <td>1.6</td>\n",
       "      <td>110</td>\n",
       "      <td>10</td>\n",
       "      <td>5.0</td>\n",
       "      <td>2250.0</td>\n",
       "      <td>2250.0</td>\n",
       "      <td>5300</td>\n",
       "      <td>3050.0</td>\n",
       "      <td>82294</td>\n",
       "      <td>2016</td>\n",
       "      <td>...</td>\n",
       "      <td>0</td>\n",
       "      <td>0</td>\n",
       "      <td>0</td>\n",
       "      <td>0</td>\n",
       "      <td>0</td>\n",
       "      <td>0</td>\n",
       "      <td>1</td>\n",
       "      <td>0</td>\n",
       "      <td>0</td>\n",
       "      <td>1</td>\n",
       "    </tr>\n",
       "    <tr>\n",
       "      <th>102</th>\n",
       "      <td>1.9</td>\n",
       "      <td>130</td>\n",
       "      <td>12</td>\n",
       "      <td>5.0</td>\n",
       "      <td>4000.0</td>\n",
       "      <td>4000.0</td>\n",
       "      <td>7500</td>\n",
       "      <td>3500.0</td>\n",
       "      <td>184488</td>\n",
       "      <td>2016</td>\n",
       "      <td>...</td>\n",
       "      <td>0</td>\n",
       "      <td>0</td>\n",
       "      <td>0</td>\n",
       "      <td>0</td>\n",
       "      <td>0</td>\n",
       "      <td>0</td>\n",
       "      <td>0</td>\n",
       "      <td>1</td>\n",
       "      <td>0</td>\n",
       "      <td>1</td>\n",
       "    </tr>\n",
       "    <tr>\n",
       "      <th>103</th>\n",
       "      <td>2.0</td>\n",
       "      <td>115</td>\n",
       "      <td>6</td>\n",
       "      <td>6.0</td>\n",
       "      <td>10900.0</td>\n",
       "      <td>10900.0</td>\n",
       "      <td>13700</td>\n",
       "      <td>2800.0</td>\n",
       "      <td>84172</td>\n",
       "      <td>2016</td>\n",
       "      <td>...</td>\n",
       "      <td>0</td>\n",
       "      <td>0</td>\n",
       "      <td>0</td>\n",
       "      <td>0</td>\n",
       "      <td>0</td>\n",
       "      <td>0</td>\n",
       "      <td>1</td>\n",
       "      <td>0</td>\n",
       "      <td>0</td>\n",
       "      <td>1</td>\n",
       "    </tr>\n",
       "  </tbody>\n",
       "</table>\n",
       "<p>5 rows × 144 columns</p>\n",
       "</div>"
      ],
      "text/plain": [
       "     MOTOR   CV  YEARS  PLAZAS      PCC  PCOMPRA  PVENTA   BRUTO      KM  \\\n",
       "99     1.4   75     12     5.0   1805.0   1805.0    4500  2695.0   91431   \n",
       "100    2.0  130      4     5.0  10821.0  10821.0   13300  2479.0   74210   \n",
       "101    1.6  110     10     5.0   2250.0   2250.0    5300  3050.0   82294   \n",
       "102    1.9  130     12     5.0   4000.0   4000.0    7500  3500.0  184488   \n",
       "103    2.0  115      6     6.0  10900.0  10900.0   13700  2800.0   84172   \n",
       "\n",
       "     year  ...  tipo_mon  tipo_monp  tipo_peq  tipo_pickup  tipo_sub  tipo_tt  \\\n",
       "99   2016  ...         0          0         1            0         0        0   \n",
       "100  2016  ...         0          0         0            0         0        0   \n",
       "101  2016  ...         0          0         0            0         0        0   \n",
       "102  2016  ...         0          0         0            0         0        0   \n",
       "103  2016  ...         0          0         0            0         0        0   \n",
       "\n",
       "     llantas_no  llantas_si  GARANTIA2_no  GARANTIA2_si  \n",
       "99            0           1             0             1  \n",
       "100           0           1             0             1  \n",
       "101           1           0             0             1  \n",
       "102           0           1             0             1  \n",
       "103           1           0             0             1  \n",
       "\n",
       "[5 rows x 144 columns]"
      ]
     },
     "execution_count": 15,
     "metadata": {},
     "output_type": "execute_result"
    }
   ],
   "source": [
    "#Feature selection\n",
    "#Lets defind feature sets, X:\n",
    "\n",
    "\n",
    "x = predictors\n",
    "x[0:5]"
   ]
  },
  {
   "cell_type": "code",
   "execution_count": 16,
   "metadata": {},
   "outputs": [
    {
     "data": {
      "text/plain": [
       "99     2.0\n",
       "100    1.0\n",
       "101    1.0\n",
       "102    1.0\n",
       "103    1.0\n",
       "Name: MESES, dtype: float64"
      ]
     },
     "execution_count": 16,
     "metadata": {},
     "output_type": "execute_result"
    }
   ],
   "source": [
    "\n",
    "#What are our lables? Round where the given team was eliminated or where their season ended (R68 = First Four, R64 = Round of 64, R32 = Round of 32, S16 = Sweet Sixteen, E8 = Elite Eight, F4 = Final Four, 2ND = Runner-up, Champion = Winner of the NCAA March Madness Tournament for that given year)|\n",
    "\n",
    "\n",
    "y = target\n",
    "y[0:5]"
   ]
  },
  {
   "cell_type": "code",
   "execution_count": 17,
   "metadata": {},
   "outputs": [],
   "source": [
    "#use train/test split to start to model\n",
    "#import libraries to use \n",
    "from sklearn.model_selection import train_test_split\n",
    "from sklearn.tree import DecisionTreeClassifier"
   ]
  },
  {
   "cell_type": "code",
   "execution_count": 18,
   "metadata": {},
   "outputs": [],
   "source": [
    "#use train test splot to split into training 80% and 20% for testing, with a random state of 3\n",
    "x_train, x_test, y_train, y_test = train_test_split(x, y, test_size=0.2, random_state=3)"
   ]
  },
  {
   "cell_type": "code",
   "execution_count": 19,
   "metadata": {},
   "outputs": [
    {
     "name": "stdout",
     "output_type": "stream",
     "text": [
      "train set:  (220, 144) (220,)\n",
      "test set:  (56, 144) (56,)\n"
     ]
    }
   ],
   "source": [
    "#print shape of train and test shape to check if both are correct\n",
    "print('train set: ',x_train.shape,y_train.shape)\n",
    "print('test set: ',x_test.shape,y_test.shape)"
   ]
  },
  {
   "cell_type": "code",
   "execution_count": 20,
   "metadata": {},
   "outputs": [],
   "source": [
    "#This model is going to predict the MESES type based on the car characteristics. This is categorized\n",
    "#as a classification machine learning technique.Different models will be used to evaluate the prediction \n",
    "#accuracy."
   ]
  },
  {
   "cell_type": "code",
   "execution_count": 21,
   "metadata": {},
   "outputs": [
    {
     "data": {
      "text/plain": [
       "DecisionTreeClassifier(ccp_alpha=0.0, class_weight=None, criterion='entropy',\n",
       "                       max_depth=4, max_features=None, max_leaf_nodes=None,\n",
       "                       min_impurity_decrease=0.0, min_impurity_split=None,\n",
       "                       min_samples_leaf=1, min_samples_split=2,\n",
       "                       min_weight_fraction_leaf=0.0, presort='deprecated',\n",
       "                       random_state=None, splitter='best')"
      ]
     },
     "execution_count": 21,
     "metadata": {},
     "output_type": "execute_result"
    }
   ],
   "source": [
    "#DECISION TREE MODEL\n",
    "#First, create an instance of the decision tree clasifier,\n",
    "treecomp= DecisionTreeClassifier(criterion=\"entropy\", max_depth = 4)\n",
    "treecomp"
   ]
  },
  {
   "cell_type": "code",
   "execution_count": 22,
   "metadata": {},
   "outputs": [
    {
     "data": {
      "text/plain": [
       "DecisionTreeClassifier(ccp_alpha=0.0, class_weight=None, criterion='entropy',\n",
       "                       max_depth=4, max_features=None, max_leaf_nodes=None,\n",
       "                       min_impurity_decrease=0.0, min_impurity_split=None,\n",
       "                       min_samples_leaf=1, min_samples_split=2,\n",
       "                       min_weight_fraction_leaf=0.0, presort='deprecated',\n",
       "                       random_state=None, splitter='best')"
      ]
     },
     "execution_count": 22,
     "metadata": {},
     "output_type": "execute_result"
    }
   ],
   "source": [
    "#fit the data with the training set\n",
    "treecomp.fit(x_train,y_train)"
   ]
  },
  {
   "cell_type": "code",
   "execution_count": 23,
   "metadata": {},
   "outputs": [],
   "source": [
    "#make some predctions on the test dataset\n",
    "predtree= treecomp.predict(x_test)"
   ]
  },
  {
   "cell_type": "code",
   "execution_count": 24,
   "metadata": {},
   "outputs": [
    {
     "name": "stdout",
     "output_type": "stream",
     "text": [
      "[1. 2. 1. 2. 1.]\n",
      "221    2.0\n",
      "217    1.0\n",
      "182    1.0\n",
      "287    2.0\n",
      "253    2.0\n",
      "Name: MESES, dtype: float64\n"
     ]
    }
   ],
   "source": [
    "#print the predction values and the y_test values to compare\n",
    "print(predtree[0:5])\n",
    "print(y_test[0:5])"
   ]
  },
  {
   "cell_type": "code",
   "execution_count": 25,
   "metadata": {},
   "outputs": [
    {
     "name": "stdout",
     "output_type": "stream",
     "text": [
      "Decision tree accuracy:  0.6785714285714286\n"
     ]
    }
   ],
   "source": [
    "#check the accuracy of the model\n",
    "from sklearn import metrics\n",
    "import  matplotlib.pyplot as plt\n",
    "print('Decision tree accuracy: ',metrics.accuracy_score(y_test,predtree))"
   ]
  },
  {
   "cell_type": "code",
   "execution_count": 26,
   "metadata": {},
   "outputs": [
    {
     "data": {
      "text/plain": [
       "0.6785714285714286"
      ]
     },
     "execution_count": 26,
     "metadata": {},
     "output_type": "execute_result"
    }
   ],
   "source": [
    "#another way of caculating the accuracy without using the sklearn accuracy score\n",
    "true_pred=sum(predtree==y_test)\n",
    "total_test=len(y_test)\n",
    "Accuracy=true_pred/total_test\n",
    "Accuracy"
   ]
  },
  {
   "cell_type": "code",
   "execution_count": 27,
   "metadata": {},
   "outputs": [
    {
     "name": "stderr",
     "output_type": "stream",
     "text": [
      "C:\\Users\\djina\\anaconda3\\lib\\site-packages\\sklearn\\metrics\\_classification.py:664: FutureWarning: jaccard_similarity_score has been deprecated and replaced with jaccard_score. It will be removed in version 0.23. This implementation has surprising behavior for binary and multiclass classification tasks.\n",
      "  FutureWarning)\n"
     ]
    },
    {
     "data": {
      "text/plain": [
       "0.6785714285714286"
      ]
     },
     "execution_count": 27,
     "metadata": {},
     "output_type": "execute_result"
    }
   ],
   "source": [
    "#Jaccard similarity\n",
    "from sklearn.metrics import jaccard_similarity_score\n",
    "jaccard_similarity_score(y_test, predtree)"
   ]
  },
  {
   "cell_type": "code",
   "execution_count": 28,
   "metadata": {},
   "outputs": [],
   "source": [
    "#Confusion matrix building\n",
    "from sklearn.metrics import classification_report, confusion_matrix\n",
    "import itertools\n",
    "def plot_confusion_matrix(cm, classes,\n",
    "                          normalize=False,\n",
    "                          title='Confusion matrix',\n",
    "                          cmap=plt.cm.Blues):\n",
    "    \"\"\"\n",
    "    This function prints and plots the confusion matrix.\n",
    "    Normalization can be applied by setting `normalize=True`.\n",
    "    \"\"\"\n",
    "    if normalize:\n",
    "        cm = cm.astype('float') / cm.sum(axis=1)[:, np.newaxis]\n",
    "        print(\"Normalized confusion matrix\")\n",
    "    else:\n",
    "        print('Confusion matrix, without normalization')\n",
    "\n",
    "    print(cm)\n",
    "\n",
    "    plt.imshow(cm, interpolation='nearest', cmap=cmap)\n",
    "    plt.title(title)\n",
    "    plt.colorbar()\n",
    "    tick_marks = np.arange(len(classes))\n",
    "    plt.xticks(tick_marks, classes, rotation=45)\n",
    "    plt.yticks(tick_marks, classes)\n",
    "\n",
    "    fmt = '.2f' if normalize else 'd'\n",
    "    thresh = cm.max() / 2.\n",
    "    for i, j in itertools.product(range(cm.shape[0]), range(cm.shape[1])):\n",
    "        plt.text(j, i, format(cm[i, j], fmt),\n",
    "                 horizontalalignment=\"center\",\n",
    "                 color=\"white\" if cm[i, j] > thresh else \"black\")\n",
    "    plt.tight_layout()\n",
    "    plt.ylabel('True label')\n",
    "    plt.xlabel('Predicted label')"
   ]
  },
  {
   "cell_type": "code",
   "execution_count": 29,
   "metadata": {},
   "outputs": [],
   "source": [
    "#Convert the prediction data into a numerical dataframe, as the data is a binary classification, it will use\n",
    "#1 y 2 (MESES) as a boolean to have a 1/0 categorization\n",
    "y2=predtree==1\n",
    "y2 = 1*y2\n",
    "\n",
    "#Convert the real data into a numerical dataframe, as the data is a binary classification, it will use\n",
    "#heat/hot water as a boolean to have a 1/0 categorization\n",
    "y_test2=y_test==1\n",
    "y_test2=1*y_test2"
   ]
  },
  {
   "cell_type": "code",
   "execution_count": 30,
   "metadata": {},
   "outputs": [
    {
     "name": "stdout",
     "output_type": "stream",
     "text": [
      "[[29  7]\n",
      " [11  9]]\n"
     ]
    }
   ],
   "source": [
    "#print the result for the confusion matrix\n",
    "print(confusion_matrix(y_test2,y2,labels=[1,0]))"
   ]
  },
  {
   "cell_type": "code",
   "execution_count": 31,
   "metadata": {},
   "outputs": [],
   "source": [
    "#import numpy library\n",
    "import numpy as np"
   ]
  },
  {
   "cell_type": "code",
   "execution_count": 32,
   "metadata": {},
   "outputs": [
    {
     "name": "stdout",
     "output_type": "stream",
     "text": [
      "Confusion matrix, without normalization\n",
      "[[29  7]\n",
      " [11  9]]\n"
     ]
    },
    {
     "data": {
      "image/png": "[encoded data removed]",
      "text/plain": [
       "<Figure size 432x288 with 2 Axes>"
      ]
     },
     "metadata": {
      "needs_background": "light"
     },
     "output_type": "display_data"
    }
   ],
   "source": [
    "# Compute confusion matrix\n",
    "cnf_matrix = confusion_matrix(y_test2, y2, labels=[1,0])\n",
    "np.set_printoptions(precision=2)\n",
    "\n",
    "\n",
    "# Plot non-normalized confusion matrix\n",
    "plt.figure()\n",
    "plot_confusion_matrix(cnf_matrix, classes=['churn=1','churn=0'],normalize= False,  title='Confusion matrix')"
   ]
  },
  {
   "cell_type": "code",
   "execution_count": 33,
   "metadata": {},
   "outputs": [
    {
     "name": "stdout",
     "output_type": "stream",
     "text": [
      "              precision    recall  f1-score   support\n",
      "\n",
      "           0       0.56      0.45      0.50        20\n",
      "           1       0.72      0.81      0.76        36\n",
      "\n",
      "    accuracy                           0.68        56\n",
      "   macro avg       0.64      0.63      0.63        56\n",
      "weighted avg       0.67      0.68      0.67        56\n",
      "\n"
     ]
    }
   ],
   "source": [
    "#print the classification report\n",
    "print (classification_report(y_test2, y2))"
   ]
  },
  {
   "cell_type": "code",
   "execution_count": 34,
   "metadata": {},
   "outputs": [],
   "source": [
    "#A few comments can be taken from the prediction model using decision trees. The first, is that using a decision\n",
    "#tree model the accuracy is slightly higher than 71%, using the accuracy calculations and Jaccard similiarity\n",
    "#gave an accuracy of 71%, which means that the model is not perfect and that fails to predict less than 29% of\n",
    "#the times that is giving a prediction. To get a better view, a confusion matrix was done. The confusion matrix\n",
    "#explained that the model is able to predict correctly when a rotation MESES(1) is \"1\" related, with a \n",
    "#recall of 0.77, meaining that 77% of the times that the model is predicting a 1 rotation car, the\n",
    "#real data shows the same result. On the other hand, the model is able to predict when a ROTATION is\n",
    "#0 related MESES(2), because it has a recall of 0.62, which means that 38% of the times that the model predicts\n",
    "#a 2 rotation car type, is not correct, with a ver low performance. The overall performance shows a 71% of\n",
    "#accuracy. This performance of the model can tells us that is a good model to describe the\n",
    "#rotation. To confirm if the model was not the most appropiate one, other models will be used and compared to the decision tree\n",
    "#model."
   ]
  },
  {
   "cell_type": "code",
   "execution_count": 35,
   "metadata": {},
   "outputs": [],
   "source": [
    "#LOGISTIC REGRESSION MODEL\n",
    "#import library\n",
    "from sklearn.linear_model import LogisticRegression\n",
    "\n",
    "#make a new column, making the complaint ytpe as numerical category, define \"heat/hot water\" category as 1\n",
    "df['boolComp']=df['MESES']== 1\n",
    "df['boolComp']=1*df['boolComp']\n",
    "\n"
   ]
  },
  {
   "cell_type": "code",
   "execution_count": 36,
   "metadata": {},
   "outputs": [],
   "source": [
    "#define X (independent) variables\n",
    "X=np.asarray(x)\n",
    "\n",
    "#define Y (dependant) variable\n",
    "Y=np.asarray(df['boolComp'])"
   ]
  },
  {
   "cell_type": "code",
   "execution_count": 37,
   "metadata": {},
   "outputs": [
    {
     "data": {
      "text/plain": [
       "array([[-8.55e-01, -1.38e+00,  1.07e+00, -2.64e-01, -1.12e+00, -1.05e+00,\n",
       "        -1.09e+00, -1.65e-01, -2.74e-03, -4.62e-01,  1.99e+00, -1.73e-01,\n",
       "        -8.54e-02, -8.54e-02, -6.03e-02, -6.03e-02, -1.05e-01, -2.13e-01,\n",
       "        -1.05e-01, -6.03e-02, -1.36e-01, -6.03e-02, -8.54e-02, -6.03e-02,\n",
       "        -6.03e-02, -6.03e-02, -6.03e-02, -8.54e-02, -1.36e-01, -2.13e-01,\n",
       "        -6.03e-02, -6.03e-02, -6.03e-02, -1.21e-01, -6.03e-02, -6.03e-02,\n",
       "        -6.03e-02, -8.54e-02, -6.03e-02, -6.03e-02, -8.54e-02, -6.03e-02,\n",
       "        -6.03e-02, -6.03e-02, -1.21e-01, -6.03e-02, -1.49e-01, -6.03e-02,\n",
       "        -3.16e-01, -8.54e-02, -1.21e-01, -2.56e-01, -1.84e-01, -6.03e-02,\n",
       "        -1.05e-01, -2.04e-01, -8.54e-02, -6.03e-02, -6.03e-02, -8.54e-02,\n",
       "        -6.03e-02, -6.03e-02, -6.03e-02, -1.49e-01, -6.03e-02, -8.54e-02,\n",
       "        -1.05e-01, -1.05e-01, -1.36e-01, -2.22e-01, -8.54e-02, -6.03e-02,\n",
       "        -8.54e-02, -2.31e-01, -1.21e-01, -6.03e-02, -6.03e-02, -6.03e-02,\n",
       "        -6.03e-02, -6.03e-02, -1.05e-01, -1.36e-01, -1.05e-01, -1.21e-01,\n",
       "        -1.61e-01, -1.36e-01,  5.79e+00, -1.05e-01, -6.03e-02, -2.40e-01,\n",
       "         2.40e-01, -1.07e+00,  1.12e+00, -6.03e-02, -1.49e-01, -3.43e-01,\n",
       "        -1.36e-01, -3.93e-01, -8.54e-02, -6.03e-02, -1.49e-01, -6.22e-01,\n",
       "        -8.54e-02,  2.00e+00, -6.03e-02, -3.56e-01, -3.22e-01, -1.05e-01,\n",
       "        -6.03e-02, -1.73e-01, -1.05e-01, -6.03e-02, -1.73e-01, -6.03e-02,\n",
       "        -8.54e-02, -7.19e-01, -6.03e-02, -1.05e-01, -8.54e-02, -8.54e-02,\n",
       "        -8.54e-02, -8.54e-02, -8.54e-02, -1.94e-01,  3.17e+00, -4.41e-01,\n",
       "        -2.64e-01, -1.21e-01, -4.06e-01, -6.03e-02, -1.05e-01, -1.84e-01,\n",
       "        -4.65e-01, -6.00e-01, -4.82e-01, -8.54e-02,  1.64e+00, -6.03e-02,\n",
       "        -1.94e-01, -1.36e-01, -4.47e-01,  4.47e-01, -3.56e-01,  3.56e-01],\n",
       "       [ 9.29e-01,  8.10e-01, -1.63e+00, -2.64e-01,  2.04e+00,  2.07e+00,\n",
       "         1.91e+00, -3.86e-01, -3.45e-01, -4.62e-01, -1.01e+00, -1.73e-01,\n",
       "        -8.54e-02, -8.54e-02, -6.03e-02, -6.03e-02, -1.05e-01, -2.13e-01,\n",
       "        -1.05e-01, -6.03e-02, -1.36e-01, -6.03e-02, -8.54e-02, -6.03e-02,\n",
       "        -6.03e-02, -6.03e-02, -6.03e-02, -8.54e-02, -1.36e-01, -2.13e-01,\n",
       "        -6.03e-02, -6.03e-02, -6.03e-02, -1.21e-01, -6.03e-02, -6.03e-02,\n",
       "        -6.03e-02, -8.54e-02, -6.03e-02, -6.03e-02, -8.54e-02, -6.03e-02,\n",
       "        -6.03e-02, -6.03e-02, -1.21e-01, -6.03e-02, -1.49e-01, -6.03e-02,\n",
       "        -3.16e-01, -8.54e-02, -1.21e-01, -2.56e-01,  5.45e+00, -6.03e-02,\n",
       "        -1.05e-01, -2.04e-01, -8.54e-02, -6.03e-02, -6.03e-02, -8.54e-02,\n",
       "        -6.03e-02, -6.03e-02, -6.03e-02, -1.49e-01, -6.03e-02, -8.54e-02,\n",
       "        -1.05e-01, -1.05e-01, -1.36e-01, -2.22e-01, -8.54e-02, -6.03e-02,\n",
       "        -8.54e-02, -2.31e-01, -1.21e-01, -6.03e-02, -6.03e-02, -6.03e-02,\n",
       "        -6.03e-02, -6.03e-02, -1.05e-01, -1.36e-01, -1.05e-01, -1.21e-01,\n",
       "        -1.61e-01, -1.36e-01, -1.73e-01, -1.05e-01, -6.03e-02, -2.40e-01,\n",
       "         2.40e-01,  9.37e-01, -8.90e-01, -6.03e-02, -1.49e-01, -3.43e-01,\n",
       "        -1.36e-01,  2.54e+00, -8.54e-02, -6.03e-02, -1.49e-01, -6.22e-01,\n",
       "        -8.54e-02, -4.99e-01, -6.03e-02, -3.56e-01, -3.22e-01, -1.05e-01,\n",
       "        -6.03e-02, -1.73e-01, -1.05e-01, -6.03e-02,  5.79e+00, -6.03e-02,\n",
       "        -8.54e-02, -7.19e-01, -6.03e-02, -1.05e-01, -8.54e-02, -8.54e-02,\n",
       "        -8.54e-02, -8.54e-02, -8.54e-02, -1.94e-01, -3.16e-01, -4.41e-01,\n",
       "        -2.64e-01, -1.21e-01, -4.06e-01, -6.03e-02, -1.05e-01, -1.84e-01,\n",
       "         2.15e+00, -6.00e-01, -4.82e-01, -8.54e-02, -6.11e-01, -6.03e-02,\n",
       "        -1.94e-01, -1.36e-01, -4.47e-01,  4.47e-01, -3.56e-01,  3.56e-01],\n",
       "       [-2.61e-01,  1.21e-02,  3.96e-01, -2.64e-01, -9.68e-01, -8.94e-01,\n",
       "        -8.14e-01,  1.98e-01, -1.84e-01, -4.62e-01,  1.29e-01, -1.73e-01,\n",
       "        -8.54e-02, -8.54e-02, -6.03e-02, -6.03e-02, -1.05e-01,  4.69e+00,\n",
       "        -1.05e-01, -6.03e-02, -1.36e-01, -6.03e-02, -8.54e-02, -6.03e-02,\n",
       "        -6.03e-02, -6.03e-02, -6.03e-02, -8.54e-02, -1.36e-01, -2.13e-01,\n",
       "        -6.03e-02, -6.03e-02, -6.03e-02, -1.21e-01, -6.03e-02, -6.03e-02,\n",
       "        -6.03e-02, -8.54e-02, -6.03e-02, -6.03e-02, -8.54e-02, -6.03e-02,\n",
       "        -6.03e-02, -6.03e-02, -1.21e-01, -6.03e-02, -1.49e-01, -6.03e-02,\n",
       "        -3.16e-01, -8.54e-02, -1.21e-01, -2.56e-01, -1.84e-01, -6.03e-02,\n",
       "        -1.05e-01, -2.04e-01, -8.54e-02, -6.03e-02, -6.03e-02, -8.54e-02,\n",
       "        -6.03e-02, -6.03e-02, -6.03e-02, -1.49e-01, -6.03e-02, -8.54e-02,\n",
       "        -1.05e-01, -1.05e-01, -1.36e-01, -2.22e-01, -8.54e-02, -6.03e-02,\n",
       "        -8.54e-02, -2.31e-01, -1.21e-01, -6.03e-02, -6.03e-02, -6.03e-02,\n",
       "        -6.03e-02, -6.03e-02, -1.05e-01, -1.36e-01, -1.05e-01, -1.21e-01,\n",
       "        -1.61e-01, -1.36e-01, -1.73e-01, -1.05e-01, -6.03e-02, -2.40e-01,\n",
       "         2.40e-01, -1.07e+00,  1.12e+00, -6.03e-02, -1.49e-01, -3.43e-01,\n",
       "        -1.36e-01, -3.93e-01, -8.54e-02, -6.03e-02, -1.49e-01,  1.61e+00,\n",
       "        -8.54e-02, -4.99e-01, -6.03e-02, -3.56e-01, -3.22e-01, -1.05e-01,\n",
       "        -6.03e-02, -1.73e-01, -1.05e-01, -6.03e-02, -1.73e-01, -6.03e-02,\n",
       "        -8.54e-02,  1.39e+00, -6.03e-02, -1.05e-01, -8.54e-02, -8.54e-02,\n",
       "        -8.54e-02, -8.54e-02, -8.54e-02, -1.94e-01, -3.16e-01, -4.41e-01,\n",
       "        -2.64e-01, -1.21e-01, -4.06e-01, -6.03e-02, -1.05e-01, -1.84e-01,\n",
       "        -4.65e-01,  1.67e+00, -4.82e-01, -8.54e-02, -6.11e-01, -6.03e-02,\n",
       "        -1.94e-01, -1.36e-01,  2.24e+00, -2.24e+00, -3.56e-01,  3.56e-01],\n",
       "       [ 6.31e-01,  8.10e-01,  1.07e+00, -2.64e-01, -3.54e-01, -2.89e-01,\n",
       "        -6.48e-02,  6.59e-01,  1.84e+00, -4.62e-01,  9.87e-02,  5.79e+00,\n",
       "        -8.54e-02, -8.54e-02, -6.03e-02, -6.03e-02, -1.05e-01, -2.13e-01,\n",
       "        -1.05e-01, -6.03e-02, -1.36e-01, -6.03e-02, -8.54e-02, -6.03e-02,\n",
       "        -6.03e-02, -6.03e-02, -6.03e-02, -8.54e-02, -1.36e-01, -2.13e-01,\n",
       "        -6.03e-02, -6.03e-02, -6.03e-02, -1.21e-01, -6.03e-02, -6.03e-02,\n",
       "        -6.03e-02, -8.54e-02, -6.03e-02, -6.03e-02, -8.54e-02, -6.03e-02,\n",
       "        -6.03e-02, -6.03e-02, -1.21e-01, -6.03e-02, -1.49e-01, -6.03e-02,\n",
       "        -3.16e-01, -8.54e-02, -1.21e-01, -2.56e-01, -1.84e-01, -6.03e-02,\n",
       "        -1.05e-01, -2.04e-01, -8.54e-02, -6.03e-02, -6.03e-02, -8.54e-02,\n",
       "        -6.03e-02, -6.03e-02, -6.03e-02, -1.49e-01, -6.03e-02, -8.54e-02,\n",
       "        -1.05e-01, -1.05e-01, -1.36e-01, -2.22e-01, -8.54e-02, -6.03e-02,\n",
       "        -8.54e-02, -2.31e-01, -1.21e-01, -6.03e-02, -6.03e-02, -6.03e-02,\n",
       "        -6.03e-02, -6.03e-02, -1.05e-01, -1.36e-01, -1.05e-01, -1.21e-01,\n",
       "        -1.61e-01, -1.36e-01, -1.73e-01, -1.05e-01, -6.03e-02, -2.40e-01,\n",
       "         2.40e-01,  9.37e-01, -8.90e-01, -6.03e-02, -1.49e-01, -3.43e-01,\n",
       "        -1.36e-01, -3.93e-01, -8.54e-02, -6.03e-02, -1.49e-01, -6.22e-01,\n",
       "        -8.54e-02, -4.99e-01, -6.03e-02,  2.81e+00, -3.22e-01, -1.05e-01,\n",
       "        -6.03e-02, -1.73e-01, -1.05e-01, -6.03e-02, -1.73e-01, -6.03e-02,\n",
       "        -8.54e-02, -7.19e-01, -6.03e-02, -1.05e-01, -8.54e-02, -8.54e-02,\n",
       "        -8.54e-02, -8.54e-02, -8.54e-02, -1.94e-01, -3.16e-01,  2.27e+00,\n",
       "        -2.64e-01, -1.21e-01, -4.06e-01, -6.03e-02, -1.05e-01, -1.84e-01,\n",
       "         2.15e+00, -6.00e-01, -4.82e-01, -8.54e-02, -6.11e-01, -6.03e-02,\n",
       "        -1.94e-01, -1.36e-01, -4.47e-01,  4.47e-01, -3.56e-01,  3.56e-01],\n",
       "       [ 9.29e-01,  2.12e-01, -9.53e-01,  1.47e+00,  2.07e+00,  2.10e+00,\n",
       "         2.05e+00, -5.73e-02, -1.47e-01, -4.62e-01, -1.48e-01, -1.73e-01,\n",
       "        -8.54e-02, -8.54e-02, -6.03e-02, -6.03e-02, -1.05e-01, -2.13e-01,\n",
       "        -1.05e-01, -6.03e-02, -1.36e-01, -6.03e-02, -8.54e-02, -6.03e-02,\n",
       "        -6.03e-02, -6.03e-02, -6.03e-02, -8.54e-02, -1.36e-01, -2.13e-01,\n",
       "        -6.03e-02, -6.03e-02, -6.03e-02, -1.21e-01, -6.03e-02, -6.03e-02,\n",
       "        -6.03e-02, -8.54e-02, -6.03e-02, -6.03e-02, -8.54e-02, -6.03e-02,\n",
       "        -6.03e-02, -6.03e-02, -1.21e-01, -6.03e-02, -1.49e-01, -6.03e-02,\n",
       "        -3.16e-01, -8.54e-02, -1.21e-01, -2.56e-01, -1.84e-01, -6.03e-02,\n",
       "        -1.05e-01, -2.04e-01, -8.54e-02, -6.03e-02, -6.03e-02, -8.54e-02,\n",
       "        -6.03e-02, -6.03e-02, -6.03e-02, -1.49e-01, -6.03e-02, -8.54e-02,\n",
       "        -1.05e-01, -1.05e-01, -1.36e-01, -2.22e-01,  1.17e+01, -6.03e-02,\n",
       "        -8.54e-02, -2.31e-01, -1.21e-01, -6.03e-02, -6.03e-02, -6.03e-02,\n",
       "        -6.03e-02, -6.03e-02, -1.05e-01, -1.36e-01, -1.05e-01, -1.21e-01,\n",
       "        -1.61e-01, -1.36e-01, -1.73e-01, -1.05e-01, -6.03e-02, -2.40e-01,\n",
       "         2.40e-01,  9.37e-01, -8.90e-01, -6.03e-02, -1.49e-01, -3.43e-01,\n",
       "        -1.36e-01,  2.54e+00, -8.54e-02, -6.03e-02, -1.49e-01, -6.22e-01,\n",
       "        -8.54e-02, -4.99e-01, -6.03e-02, -3.56e-01, -3.22e-01, -1.05e-01,\n",
       "        -6.03e-02, -1.73e-01, -1.05e-01, -6.03e-02,  5.79e+00, -6.03e-02,\n",
       "        -8.54e-02, -7.19e-01, -6.03e-02, -1.05e-01, -8.54e-02, -8.54e-02,\n",
       "        -8.54e-02, -8.54e-02, -8.54e-02, -1.94e-01, -3.16e-01, -4.41e-01,\n",
       "        -2.64e-01, -1.21e-01, -4.06e-01, -6.03e-02, -1.05e-01,  5.45e+00,\n",
       "        -4.65e-01, -6.00e-01, -4.82e-01, -8.54e-02, -6.11e-01, -6.03e-02,\n",
       "        -1.94e-01, -1.36e-01,  2.24e+00, -2.24e+00, -3.56e-01,  3.56e-01]])"
      ]
     },
     "execution_count": 37,
     "metadata": {},
     "output_type": "execute_result"
    }
   ],
   "source": [
    "#normalize the dataset\n",
    "from sklearn import preprocessing\n",
    "X=preprocessing.StandardScaler().fit(X).transform(X)\n",
    "X[0:5]"
   ]
  },
  {
   "cell_type": "code",
   "execution_count": 38,
   "metadata": {},
   "outputs": [
    {
     "name": "stdout",
     "output_type": "stream",
     "text": [
      "Train set:  (220, 144) (220,)\n",
      "Test set:  (56, 144) (56,)\n"
     ]
    }
   ],
   "source": [
    "#split the data into train (80%) and test(20%)\n",
    "from sklearn.model_selection import train_test_split\n",
    "X_train, X_test, y_train, y_test=train_test_split(X,Y,test_size=0.2, random_state=4)\n",
    "print('Train set: ',X_train.shape, y_train.shape)\n",
    "print('Test set: ',X_test.shape, y_test.shape)"
   ]
  },
  {
   "cell_type": "code",
   "execution_count": 39,
   "metadata": {},
   "outputs": [
    {
     "data": {
      "text/plain": [
       "LogisticRegression(C=0.01, class_weight=None, dual=False, fit_intercept=True,\n",
       "                   intercept_scaling=1, l1_ratio=None, max_iter=100,\n",
       "                   multi_class='auto', n_jobs=None, penalty='l2',\n",
       "                   random_state=None, solver='liblinear', tol=0.0001, verbose=0,\n",
       "                   warm_start=False)"
      ]
     },
     "execution_count": 39,
     "metadata": {},
     "output_type": "execute_result"
    }
   ],
   "source": [
    "#import logistic regression and use liblinear numerical optimizer t find parameters\n",
    "#use a C parameter of 0.01\n",
    "from sklearn.linear_model import LogisticRegression\n",
    "from sklearn.metrics import confusion_matrix\n",
    "LR=LogisticRegression(C=0.01, solver='liblinear').fit(X_train,y_train)\n",
    "LR"
   ]
  },
  {
   "cell_type": "code",
   "execution_count": 40,
   "metadata": {},
   "outputs": [
    {
     "data": {
      "text/plain": [
       "(56, 2)"
      ]
     },
     "execution_count": 40,
     "metadata": {},
     "output_type": "execute_result"
    }
   ],
   "source": [
    "#now predict using the test set\n",
    "yhat=LR.predict(X_test)\n",
    "\n",
    "#predict_proba returns estimates for all classes, ordered by the label of classes. So, the first column is the probability \n",
    "#of class 1, P(Y=1|X), and second column is probability of class 0, P(Y=0|X):\n",
    "\n",
    "yhat_prob=LR.predict_proba(X_test)\n",
    "yhat_prob.shape"
   ]
  },
  {
   "cell_type": "code",
   "execution_count": 41,
   "metadata": {},
   "outputs": [
    {
     "name": "stdout",
     "output_type": "stream",
     "text": [
      "logistic regression accuracy:  0.625\n"
     ]
    }
   ],
   "source": [
    "#check the accuracy of the model\n",
    "print('logistic regression accuracy: ',metrics.accuracy_score(y_test,yhat))"
   ]
  },
  {
   "cell_type": "code",
   "execution_count": 42,
   "metadata": {},
   "outputs": [
    {
     "name": "stderr",
     "output_type": "stream",
     "text": [
      "C:\\Users\\djina\\anaconda3\\lib\\site-packages\\sklearn\\metrics\\_classification.py:664: FutureWarning: jaccard_similarity_score has been deprecated and replaced with jaccard_score. It will be removed in version 0.23. This implementation has surprising behavior for binary and multiclass classification tasks.\n",
      "  FutureWarning)\n"
     ]
    },
    {
     "data": {
      "text/plain": [
       "0.625"
      ]
     },
     "execution_count": 42,
     "metadata": {},
     "output_type": "execute_result"
    }
   ],
   "source": [
    "#Jaccard Index\n",
    "jaccard_similarity_score(y_test,yhat)"
   ]
  },
  {
   "cell_type": "code",
   "execution_count": 43,
   "metadata": {},
   "outputs": [
    {
     "name": "stdout",
     "output_type": "stream",
     "text": [
      "Confusion matrix, without normalization\n",
      "[[25 10]\n",
      " [11 10]]\n"
     ]
    },
    {
     "data": {
      "image/png": "[encoded data removed]",
      "text/plain": [
       "<Figure size 432x288 with 2 Axes>"
      ]
     },
     "metadata": {
      "needs_background": "light"
     },
     "output_type": "display_data"
    }
   ],
   "source": [
    "#compute the confusion matrix\n",
    "cnf_matrix= confusion_matrix(y_test,yhat, labels=[1,0])\n",
    "np.set_printoptions(precision=2)\n",
    "\n",
    "# Plot non-normalized confusion matrix\n",
    "plt.figure()\n",
    "plot_confusion_matrix(cnf_matrix, classes=['churn=1','churn=0'],normalize= False,  title='Confusion matrix')"
   ]
  },
  {
   "cell_type": "code",
   "execution_count": 44,
   "metadata": {},
   "outputs": [
    {
     "name": "stdout",
     "output_type": "stream",
     "text": [
      "              precision    recall  f1-score   support\n",
      "\n",
      "           0       0.50      0.48      0.49        21\n",
      "           1       0.69      0.71      0.70        35\n",
      "\n",
      "    accuracy                           0.62        56\n",
      "   macro avg       0.60      0.60      0.60        56\n",
      "weighted avg       0.62      0.62      0.62        56\n",
      "\n"
     ]
    }
   ],
   "source": [
    "#print classification report\n",
    "print(classification_report(y_test,yhat))"
   ]
  },
  {
   "cell_type": "code",
   "execution_count": 45,
   "metadata": {},
   "outputs": [],
   "source": [
    "#logistic regression did not work proprly. This type of modelling was not able to predict a 1 rotation car\n",
    "#type, and only produced 1 rotation car types. The model even that it had a 56% of accuracy, is \n",
    "#not good enough."
   ]
  },
  {
   "cell_type": "code",
   "execution_count": 46,
   "metadata": {},
   "outputs": [],
   "source": [
    "#K-NEAREST METHOD\n",
    "\n",
    "#select independent variables \n",
    "x2=x.values\n",
    "\n",
    "#dependant variable will be the same as in logistic regression\n",
    "Y[0:5]\n",
    "\n",
    "#standardize the data, using standardscaler\n",
    "x2=preprocessing.StandardScaler().fit(x).transform(x.astype(float))\n",
    "\n",
    "#import train_test module, use 80% for train and 20% for testing\n",
    "x_train, x_test, y_train, y_test=train_test_split(x2,Y,test_size=0.2,random_state=4)"
   ]
  },
  {
   "cell_type": "code",
   "execution_count": 47,
   "metadata": {},
   "outputs": [],
   "source": [
    "#import k-neaest neihgbor classifier\n",
    "from sklearn.neighbors import KNeighborsClassifier"
   ]
  },
  {
   "cell_type": "code",
   "execution_count": 48,
   "metadata": {},
   "outputs": [
    {
     "name": "stdout",
     "output_type": "stream",
     "text": [
      "K-nearest k=1 Accuracy:  0.7321428571428571\n"
     ]
    }
   ],
   "source": [
    "#train with k=1\n",
    "k=16\n",
    "#train the model and predict\n",
    "neighbor= KNeighborsClassifier(n_neighbors=k).fit(x_train,y_train)\n",
    "\n",
    "#predict the model\n",
    "yhat1=neighbor.predict(x_test)\n",
    "\n",
    "#evaluate the accuracy \n",
    "print(\"K-nearest k=1 Accuracy: \", metrics.accuracy_score(y_test, yhat1))"
   ]
  },
  {
   "cell_type": "code",
   "execution_count": 49,
   "metadata": {},
   "outputs": [
    {
     "data": {
      "text/plain": [
       "array([0.48, 0.38, 0.59, 0.55, 0.61, 0.59, 0.64, 0.64, 0.68, 0.68, 0.64,\n",
       "       0.64, 0.66, 0.71, 0.7 , 0.73, 0.7 , 0.73, 0.7 , 0.7 , 0.7 , 0.7 ,\n",
       "       0.64, 0.64, 0.64, 0.64, 0.62, 0.62, 0.62])"
      ]
     },
     "execution_count": 49,
     "metadata": {},
     "output_type": "execute_result"
    }
   ],
   "source": [
    "#Different amount of k can be used to enhance the accuracy of the model. a k will be used up to the number of 10\n",
    "#to verify how much the accuracy changes\n",
    "\n",
    "#final amount of k\n",
    "Ks=30\n",
    "mean_acc = np.zeros((Ks-1))\n",
    "std_acc = np.zeros((Ks-1))\n",
    "ConfustionMx = [];\n",
    "for n in range(1,Ks):\n",
    "    \n",
    "    #Train Model and Predict  \n",
    "    neighbor = KNeighborsClassifier(n_neighbors = n).fit(x_train,y_train)\n",
    "    yhat=neighbor.predict(x_test)\n",
    "    mean_acc[n-1] = metrics.accuracy_score(y_test, yhat)\n",
    "\n",
    "    \n",
    "    std_acc[n-1]=np.std(yhat==y_test)/np.sqrt(yhat.shape[0])\n",
    "mean_acc"
   ]
  },
  {
   "cell_type": "code",
   "execution_count": 50,
   "metadata": {},
   "outputs": [
    {
     "data": {
      "image/png": "[encoded data removed]",
      "text/plain": [
       "<Figure size 432x288 with 1 Axes>"
      ]
     },
     "metadata": {
      "needs_background": "light"
     },
     "output_type": "display_data"
    }
   ],
   "source": [
    "#plot the model\n",
    "plt.plot(range(1,Ks),mean_acc,'g')\n",
    "plt.fill_between(range(1,Ks),mean_acc - 1 * std_acc,mean_acc + 1 * std_acc, alpha=0.10)\n",
    "plt.legend(('Accuracy ', '+/- 3xstd'))\n",
    "plt.ylabel('Accuracy ')\n",
    "plt.xlabel('Number of Nabors (K)')\n",
    "plt.tight_layout()\n",
    "plt.show()"
   ]
  },
  {
   "cell_type": "code",
   "execution_count": 51,
   "metadata": {},
   "outputs": [],
   "source": [
    "#By usiing a different amount of neighbors the accuracy of the model increased up to 69%, which is almost 6% \n",
    "#lower than the performance of the decision tree and 13% better than the logistic regression perfomance. Either way, it seems\n",
    "#that the building characteristics that were chosen to make the model were not very accurate, as the performance\n",
    "#of the model was not as good as expected, as several classification techniques were tested, and all presented\n",
    "#an acurracy that ranges between 56 and 75%. We use a model with all\n",
    "#the selected cars characteristics."
   ]
  }
 ],
 "metadata": {
  "kernelspec": {
   "display_name": "Python 3",
   "language": "python",
   "name": "python3"
  },
  "language_info": {
   "codemirror_mode": {
    "name": "ipython",
    "version": 3
   },
   "file_extension": ".py",
   "mimetype": "text/x-python",
   "name": "python",
   "nbconvert_exporter": "python",
   "pygments_lexer": "ipython3",
   "version": "3.7.6"
  }
 },
 "nbformat": 4,
 "nbformat_minor": 4
}
